{
 "cells": [
  {
   "cell_type": "code",
   "execution_count": 2,
   "metadata": {},
   "outputs": [
    {
     "name": "stdout",
     "output_type": "stream",
     "text": [
      "Collecting pandas_datareader\n",
      "  Using cached https://files.pythonhosted.org/packages/cc/5c/ea5b6dcfd0f55c5fb1e37fb45335ec01cceca199b8a79339137f5ed269e0/pandas_datareader-0.7.0-py2.py3-none-any.whl\n",
      "Requirement already satisfied: lxml in /opt/conda/lib/python3.6/site-packages (from pandas_datareader) (4.3.1)\n",
      "Collecting wrapt (from pandas_datareader)\n",
      "  Using cached https://files.pythonhosted.org/packages/67/b2/0f71ca90b0ade7fad27e3d20327c996c6252a2ffe88f50a95bba7434eda9/wrapt-1.11.1.tar.gz\n",
      "Requirement already satisfied: requests>=2.3.0 in /opt/conda/lib/python3.6/site-packages (from pandas_datareader) (2.21.0)\n",
      "Requirement already satisfied: pandas>=0.19.2 in /opt/conda/lib/python3.6/site-packages (from pandas_datareader) (0.23.4)\n",
      "Requirement already satisfied: idna<2.9,>=2.5 in /opt/conda/lib/python3.6/site-packages (from requests>=2.3.0->pandas_datareader) (2.8)\n",
      "Requirement already satisfied: urllib3<1.25,>=1.21.1 in /opt/conda/lib/python3.6/site-packages (from requests>=2.3.0->pandas_datareader) (1.24.1)\n",
      "Requirement already satisfied: certifi>=2017.4.17 in /opt/conda/lib/python3.6/site-packages (from requests>=2.3.0->pandas_datareader) (2018.11.29)\n",
      "Requirement already satisfied: chardet<3.1.0,>=3.0.2 in /opt/conda/lib/python3.6/site-packages (from requests>=2.3.0->pandas_datareader) (3.0.4)\n",
      "Requirement already satisfied: numpy>=1.9.0 in /opt/conda/lib/python3.6/site-packages (from pandas>=0.19.2->pandas_datareader) (1.13.3)\n",
      "Requirement already satisfied: pytz>=2011k in /opt/conda/lib/python3.6/site-packages (from pandas>=0.19.2->pandas_datareader) (2018.9)\n",
      "Requirement already satisfied: python-dateutil>=2.5.0 in /opt/conda/lib/python3.6/site-packages (from pandas>=0.19.2->pandas_datareader) (2.8.0)\n",
      "Requirement already satisfied: six>=1.5 in /opt/conda/lib/python3.6/site-packages (from python-dateutil>=2.5.0->pandas>=0.19.2->pandas_datareader) (1.12.0)\n",
      "Building wheels for collected packages: wrapt\n",
      "  Building wheel for wrapt (setup.py) ... \u001b[?25ldone\n",
      "\u001b[?25h  Stored in directory: /home/jovyan/.cache/pip/wheels/89/67/41/63cbf0f6ac0a6156588b9587be4db5565f8c6d8ccef98202fc\n",
      "Successfully built wrapt\n",
      "Installing collected packages: wrapt, pandas-datareader\n",
      "Successfully installed pandas-datareader-0.7.0 wrapt-1.11.1\n"
     ]
    }
   ],
   "source": [
    "!pip install pandas_datareader"
   ]
  },
  {
   "cell_type": "code",
   "execution_count": 6,
   "metadata": {},
   "outputs": [
    {
     "name": "stdout",
     "output_type": "stream",
     "text": [
      "Collecting fix_yahoo_finance\n",
      "  Downloading https://files.pythonhosted.org/packages/0a/96/d44330e427f5368cb8abd25997b72956a31b52073d285c4d5cd56e5fdc17/fix-yahoo-finance-0.0.22.tar.gz\n",
      "Requirement already satisfied: pandas in /opt/conda/lib/python3.6/site-packages (from fix_yahoo_finance) (0.23.4)\n",
      "Requirement already satisfied: numpy in /opt/conda/lib/python3.6/site-packages (from fix_yahoo_finance) (1.13.3)\n",
      "Requirement already satisfied: requests in /opt/conda/lib/python3.6/site-packages (from fix_yahoo_finance) (2.21.0)\n",
      "Collecting multitasking (from fix_yahoo_finance)\n",
      "  Downloading https://files.pythonhosted.org/packages/ac/1a/0750416c5e3683d170757e423f097fdf78ceb9ccdc65658b24341664e53e/multitasking-0.0.7.tar.gz\n",
      "Requirement already satisfied: pytz>=2011k in /opt/conda/lib/python3.6/site-packages (from pandas->fix_yahoo_finance) (2018.9)\n",
      "Requirement already satisfied: python-dateutil>=2.5.0 in /opt/conda/lib/python3.6/site-packages (from pandas->fix_yahoo_finance) (2.8.0)\n",
      "Requirement already satisfied: certifi>=2017.4.17 in /opt/conda/lib/python3.6/site-packages (from requests->fix_yahoo_finance) (2018.11.29)\n",
      "Requirement already satisfied: chardet<3.1.0,>=3.0.2 in /opt/conda/lib/python3.6/site-packages (from requests->fix_yahoo_finance) (3.0.4)\n",
      "Requirement already satisfied: idna<2.9,>=2.5 in /opt/conda/lib/python3.6/site-packages (from requests->fix_yahoo_finance) (2.8)\n",
      "Requirement already satisfied: urllib3<1.25,>=1.21.1 in /opt/conda/lib/python3.6/site-packages (from requests->fix_yahoo_finance) (1.24.1)\n",
      "Requirement already satisfied: six>=1.5 in /opt/conda/lib/python3.6/site-packages (from python-dateutil>=2.5.0->pandas->fix_yahoo_finance) (1.12.0)\n",
      "Building wheels for collected packages: fix-yahoo-finance, multitasking\n",
      "  Building wheel for fix-yahoo-finance (setup.py) ... \u001b[?25ldone\n",
      "\u001b[?25h  Stored in directory: /home/jovyan/.cache/pip/wheels/2c/ca/ce/218a19aaecf63fd74c75d6a6772b1a799fa05826d8762bfd83\n",
      "  Building wheel for multitasking (setup.py) ... \u001b[?25ldone\n",
      "\u001b[?25h  Stored in directory: /home/jovyan/.cache/pip/wheels/41/e4/48/af808a1c57f43f104042abdaf80fa623ab213ca0268ba4189c\n",
      "Successfully built fix-yahoo-finance multitasking\n",
      "Installing collected packages: multitasking, fix-yahoo-finance\n",
      "Successfully installed fix-yahoo-finance-0.0.22 multitasking-0.0.7\n"
     ]
    }
   ],
   "source": [
    "!pip install fix_yahoo_finance"
   ]
  },
  {
   "cell_type": "code",
   "execution_count": 3,
   "metadata": {},
   "outputs": [],
   "source": [
    "from pandas_datareader import data as pdr\n",
    "import fix_yahoo_finance as yf\n",
    "yf.pdr_override()"
   ]
  },
  {
   "cell_type": "code",
   "execution_count": 4,
   "metadata": {},
   "outputs": [],
   "source": [
    "start_date = '2000-01-01'\n",
    "end_date = '2018-12-31'"
   ]
  },
  {
   "cell_type": "markdown",
   "metadata": {},
   "source": [
    "### SPY"
   ]
  },
  {
   "cell_type": "code",
   "execution_count": 11,
   "metadata": {},
   "outputs": [],
   "source": [
    "etf_tickers = ['SPY']"
   ]
  },
  {
   "cell_type": "code",
   "execution_count": 12,
   "metadata": {},
   "outputs": [
    {
     "name": "stdout",
     "output_type": "stream",
     "text": [
      "[*********************100%***********************]  1 of 1 downloaded\n"
     ]
    }
   ],
   "source": [
    "# download from yahoo finance\n",
    "data = pdr.get_data_yahoo(\n",
    "            # tickers list (single tickers accepts a string as well)\n",
    "            tickers = etf_tickers,\n",
    "\n",
    "            # start date (YYYY-MM-DD / datetime.datetime object)\n",
    "            # (optional, defaults is 1950-01-01)\n",
    "            start = start_date,\n",
    "\n",
    "            # end date (YYYY-MM-DD / datetime.datetime object)\n",
    "            # (optional, defaults is Today)\n",
    "            end = end_date,\n",
    "\n",
    "            # return a multi-index dataframe\n",
    "            # (optional, default is Panel, which is deprecated)\n",
    "            as_panel = False,\n",
    "\n",
    "            # group by ticker (to access via data['SPY'])\n",
    "            # (optional, default is 'column')\n",
    "            group_by = 'ticker',\n",
    "\n",
    "            # adjust all OHLC automatically\n",
    "            # (optional, default is False)\n",
    "            #auto_adjust = True,\n",
    "\n",
    "            # download dividend + stock splits data\n",
    "            # (optional, default is None)\n",
    "            # options are:\n",
    "            #   - True (returns history + actions)\n",
    "            #   - 'only' (actions only)\n",
    "            #actions = True,\n",
    "\n",
    "            # How may threads to use?\n",
    "            #threads = 10\n",
    "        )"
   ]
  },
  {
   "cell_type": "code",
   "execution_count": 14,
   "metadata": {},
   "outputs": [],
   "source": [
    "# save as csv\n",
    "csv_filename = etf_tickers[0]+end_date+'.csv'\n",
    "data.to_csv(csv_filename, encoding='utf-8')"
   ]
  },
  {
   "cell_type": "code",
   "execution_count": 19,
   "metadata": {},
   "outputs": [],
   "source": [
    "# read from csv\n",
    "import pandas as pd\n",
    "df = pd.read_csv(csv_filename)"
   ]
  },
  {
   "cell_type": "markdown",
   "metadata": {},
   "source": [
    "### S&P500 Growth, Value and High Yield"
   ]
  },
  {
   "cell_type": "code",
   "execution_count": 18,
   "metadata": {},
   "outputs": [],
   "source": [
    "etf_tickers = ['SPYG','SPYV','SPYD']"
   ]
  },
  {
   "cell_type": "code",
   "execution_count": 19,
   "metadata": {},
   "outputs": [
    {
     "name": "stdout",
     "output_type": "stream",
     "text": [
      "[*********************100%***********************]  3 of 3 downloaded\n"
     ]
    }
   ],
   "source": [
    "# download from yahoo finance\n",
    "data = pdr.get_data_yahoo(\n",
    "            # tickers list (single tickers accepts a string as well)\n",
    "            tickers = etf_tickers,\n",
    "\n",
    "            # start date (YYYY-MM-DD / datetime.datetime object)\n",
    "            # (optional, defaults is 1950-01-01)\n",
    "            start = start_date,\n",
    "\n",
    "            # end date (YYYY-MM-DD / datetime.datetime object)\n",
    "            # (optional, defaults is Today)\n",
    "            end = end_date,\n",
    "\n",
    "            # return a multi-index dataframe\n",
    "            # (optional, default is Panel, which is deprecated)\n",
    "            as_panel = False,\n",
    "\n",
    "            # group by ticker (to access via data['SPY'])\n",
    "            # (optional, default is 'column')\n",
    "            group_by = 'ticker',\n",
    "\n",
    "            # adjust all OHLC automatically\n",
    "            # (optional, default is False)\n",
    "            #auto_adjust = True,\n",
    "\n",
    "            # download dividend + stock splits data\n",
    "            # (optional, default is None)\n",
    "            # options are:\n",
    "            #   - True (returns history + actions)\n",
    "            #   - 'only' (actions only)\n",
    "            actions = True,\n",
    "\n",
    "            # How may threads to use?\n",
    "            #threads = 10\n",
    "        )"
   ]
  },
  {
   "cell_type": "code",
   "execution_count": 20,
   "metadata": {},
   "outputs": [],
   "source": [
    "# save as csv\n",
    "csv_filename = 'SPYcore'+end_date+'.csv'\n",
    "data.to_csv(csv_filename, encoding='utf-8')"
   ]
  },
  {
   "cell_type": "code",
   "execution_count": 21,
   "metadata": {},
   "outputs": [],
   "source": [
    "for e in etf_tickers:\n",
    "    csv_filename = e+end_date+'.csv'\n",
    "    data[e]['Adj Close'].to_frame().to_csv(csv_filename, encoding='utf-8')"
   ]
  },
  {
   "cell_type": "markdown",
   "metadata": {},
   "source": [
    "### SPDW & SPEM"
   ]
  },
  {
   "cell_type": "code",
   "execution_count": 5,
   "metadata": {},
   "outputs": [],
   "source": [
    "etf_tickers = ['SPDW','SPEM']"
   ]
  },
  {
   "cell_type": "code",
   "execution_count": 14,
   "metadata": {},
   "outputs": [
    {
     "name": "stdout",
     "output_type": "stream",
     "text": [
      "[*********************100%***********************]  2 of 2 downloaded\n"
     ]
    }
   ],
   "source": [
    "# download from yahoo finance\n",
    "data = pdr.get_data_yahoo(\n",
    "            # tickers list (single tickers accepts a string as well)\n",
    "            tickers = etf_tickers,\n",
    "\n",
    "            # start date (YYYY-MM-DD / datetime.datetime object)\n",
    "            # (optional, defaults is 1950-01-01)\n",
    "            start = start_date,\n",
    "\n",
    "            # end date (YYYY-MM-DD / datetime.datetime object)\n",
    "            # (optional, defaults is Today)\n",
    "            end = end_date,\n",
    "\n",
    "            # return a multi-index dataframe\n",
    "            # (optional, default is Panel, which is deprecated)\n",
    "            as_panel = False,\n",
    "\n",
    "            # group by ticker (to access via data['SPY'])\n",
    "            # (optional, default is 'column')\n",
    "            group_by = 'ticker',\n",
    "\n",
    "            # adjust all OHLC automatically\n",
    "            # (optional, default is False)\n",
    "            #auto_adjust = True,\n",
    "\n",
    "            # download dividend + stock splits data\n",
    "            # (optional, default is None)\n",
    "            # options are:\n",
    "            #   - True (returns history + actions)\n",
    "            #   - 'only' (actions only)\n",
    "            actions = True,\n",
    "\n",
    "            # How may threads to use?\n",
    "            #threads = 10\n",
    "        )"
   ]
  },
  {
   "cell_type": "code",
   "execution_count": 15,
   "metadata": {},
   "outputs": [],
   "source": [
    "# save as csv\n",
    "csv_filename = 'noUS'+end_date+'.csv'\n",
    "data.to_csv(csv_filename, encoding='utf-8')"
   ]
  },
  {
   "cell_type": "code",
   "execution_count": 17,
   "metadata": {},
   "outputs": [],
   "source": [
    "for e in etf_tickers:\n",
    "    csv_filename = e+end_date+'.csv'\n",
    "    data[e]['Adj Close'].to_frame().to_csv(csv_filename, encoding='utf-8')"
   ]
  },
  {
   "cell_type": "markdown",
   "metadata": {},
   "source": [
    "### Sectors"
   ]
  },
  {
   "cell_type": "code",
   "execution_count": 22,
   "metadata": {},
   "outputs": [],
   "source": [
    "etf_tickers = ['XLB','XLY','XLP','XLE','XLF','XLV','XLI','XLK','XLU','XLC','XLRE']"
   ]
  },
  {
   "cell_type": "code",
   "execution_count": 23,
   "metadata": {},
   "outputs": [
    {
     "name": "stdout",
     "output_type": "stream",
     "text": [
      "[*********************100%***********************]  11 of 11 downloaded\n"
     ]
    }
   ],
   "source": [
    "# download from yahoo finance\n",
    "data = pdr.get_data_yahoo(\n",
    "            # tickers list (single tickers accepts a string as well)\n",
    "            tickers = etf_tickers,\n",
    "\n",
    "            # start date (YYYY-MM-DD / datetime.datetime object)\n",
    "            # (optional, defaults is 1950-01-01)\n",
    "            start = start_date,\n",
    "\n",
    "            # end date (YYYY-MM-DD / datetime.datetime object)\n",
    "            # (optional, defaults is Today)\n",
    "            end = end_date,\n",
    "\n",
    "            # return a multi-index dataframe\n",
    "            # (optional, default is Panel, which is deprecated)\n",
    "            as_panel = False,\n",
    "\n",
    "            # group by ticker (to access via data['SPY'])\n",
    "            # (optional, default is 'column')\n",
    "            group_by = 'ticker',\n",
    "\n",
    "            # adjust all OHLC automatically\n",
    "            # (optional, default is False)\n",
    "            #auto_adjust = True,\n",
    "\n",
    "            # download dividend + stock splits data\n",
    "            # (optional, default is None)\n",
    "            # options are:\n",
    "            #   - True (returns history + actions)\n",
    "            #   - 'only' (actions only)\n",
    "            actions = True,\n",
    "\n",
    "            # How may threads to use?\n",
    "            #threads = 10\n",
    "        )"
   ]
  },
  {
   "cell_type": "code",
   "execution_count": 24,
   "metadata": {},
   "outputs": [],
   "source": [
    "# save as csv\n",
    "csv_filename = 'Sector'+end_date+'.csv'\n",
    "data.to_csv(csv_filename, encoding='utf-8')\n",
    "\n",
    "for e in etf_tickers:\n",
    "    csv_filename = e+end_date+'.csv'\n",
    "    data[e]['Adj Close'].to_frame().to_csv(csv_filename, encoding='utf-8')"
   ]
  },
  {
   "cell_type": "markdown",
   "metadata": {},
   "source": [
    "### SHY"
   ]
  },
  {
   "cell_type": "code",
   "execution_count": 21,
   "metadata": {},
   "outputs": [],
   "source": [
    "etf_tickers = ['SHY']"
   ]
  },
  {
   "cell_type": "code",
   "execution_count": 24,
   "metadata": {},
   "outputs": [
    {
     "name": "stdout",
     "output_type": "stream",
     "text": [
      "[*********************100%***********************]  1 of 1 downloaded\n"
     ]
    }
   ],
   "source": [
    "# download from yahoo finance\n",
    "data = pdr.get_data_yahoo(\n",
    "            # tickers list (single tickers accepts a string as well)\n",
    "            tickers = etf_tickers,\n",
    "\n",
    "            # start date (YYYY-MM-DD / datetime.datetime object)\n",
    "            # (optional, defaults is 1950-01-01)\n",
    "            start = start_date,\n",
    "\n",
    "            # end date (YYYY-MM-DD / datetime.datetime object)\n",
    "            # (optional, defaults is Today)\n",
    "            end = end_date,\n",
    "\n",
    "            # return a multi-index dataframe\n",
    "            # (optional, default is Panel, which is deprecated)\n",
    "            as_panel = False,\n",
    "\n",
    "            # group by ticker (to access via data['SPY'])\n",
    "            # (optional, default is 'column')\n",
    "            group_by = 'ticker',\n",
    "\n",
    "            # adjust all OHLC automatically\n",
    "            # (optional, default is False)\n",
    "            #auto_adjust = True,\n",
    "\n",
    "            # download dividend + stock splits data\n",
    "            # (optional, default is None)\n",
    "            # options are:\n",
    "            #   - True (returns history + actions)\n",
    "            #   - 'only' (actions only)\n",
    "            actions = True,\n",
    "\n",
    "            # How may threads to use?\n",
    "            #threads = 10\n",
    "        )"
   ]
  },
  {
   "cell_type": "code",
   "execution_count": 28,
   "metadata": {},
   "outputs": [],
   "source": [
    "# save as csv\n",
    "csv_filename = etf_tickers[0]+end_date+'.csv'\n",
    "data.to_csv(csv_filename, encoding='utf-8')"
   ]
  },
  {
   "cell_type": "markdown",
   "metadata": {},
   "source": [
    "### SPAB"
   ]
  },
  {
   "cell_type": "code",
   "execution_count": 53,
   "metadata": {},
   "outputs": [],
   "source": [
    "etf_tickers = ['SPAB']"
   ]
  },
  {
   "cell_type": "code",
   "execution_count": 54,
   "metadata": {},
   "outputs": [
    {
     "name": "stdout",
     "output_type": "stream",
     "text": [
      "[*********************100%***********************]  1 of 1 downloaded\n"
     ]
    }
   ],
   "source": [
    "# download from yahoo finance\n",
    "data = pdr.get_data_yahoo(\n",
    "            # tickers list (single tickers accepts a string as well)\n",
    "            tickers = etf_tickers,\n",
    "\n",
    "            # start date (YYYY-MM-DD / datetime.datetime object)\n",
    "            # (optional, defaults is 1950-01-01)\n",
    "            start = start_date,\n",
    "\n",
    "            # end date (YYYY-MM-DD / datetime.datetime object)\n",
    "            # (optional, defaults is Today)\n",
    "            end = end_date,\n",
    "\n",
    "            # return a multi-index dataframe\n",
    "            # (optional, default is Panel, which is deprecated)\n",
    "            as_panel = False,\n",
    "\n",
    "            # group by ticker (to access via data['SPY'])\n",
    "            # (optional, default is 'column')\n",
    "            group_by = 'ticker',\n",
    "\n",
    "            # adjust all OHLC automatically\n",
    "            # (optional, default is False)\n",
    "            #auto_adjust = True,\n",
    "\n",
    "            # download dividend + stock splits data\n",
    "            # (optional, default is None)\n",
    "            # options are:\n",
    "            #   - True (returns history + actions)\n",
    "            #   - 'only' (actions only)\n",
    "            actions = True,\n",
    "\n",
    "            # How may threads to use?\n",
    "            #threads = 10\n",
    "        )"
   ]
  },
  {
   "cell_type": "code",
   "execution_count": 55,
   "metadata": {},
   "outputs": [],
   "source": [
    "# save as csv\n",
    "csv_filename = etf_tickers[0]+end_date+'.csv'\n",
    "data.to_csv(csv_filename, encoding='utf-8')"
   ]
  },
  {
   "cell_type": "code",
   "execution_count": null,
   "metadata": {},
   "outputs": [],
   "source": []
  }
 ],
 "metadata": {
  "kernelspec": {
   "display_name": "Python 3",
   "language": "python",
   "name": "python3"
  },
  "language_info": {
   "codemirror_mode": {
    "name": "ipython",
    "version": 3
   },
   "file_extension": ".py",
   "mimetype": "text/x-python",
   "name": "python",
   "nbconvert_exporter": "python",
   "pygments_lexer": "ipython3",
   "version": "3.6.8"
  }
 },
 "nbformat": 4,
 "nbformat_minor": 2
}
