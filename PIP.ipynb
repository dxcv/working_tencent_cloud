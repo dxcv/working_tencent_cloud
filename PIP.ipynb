{
 "cells": [
  {
   "cell_type": "code",
   "execution_count": 1,
   "metadata": {},
   "outputs": [
    {
     "name": "stdout",
     "output_type": "stream",
     "text": [
      "Collecting tushare\n",
      "\u001b[?25l  Downloading https://files.pythonhosted.org/packages/d8/38/8a36e3dffe49dd91a9a9b81248af741e3f4e42256246bf5ac0da6b019142/tushare-1.2.21.tar.gz (162kB)\n",
      "\u001b[K    100% |████████████████████████████████| 163kB 116kB/s ta 0:00:01\n",
      "\u001b[?25hRequirement already satisfied: pandas>=0.18.0 in /opt/conda/lib/python3.6/site-packages (from tushare) (0.23.4)\n",
      "Requirement already satisfied: requests>=2.0.0 in /opt/conda/lib/python3.6/site-packages (from tushare) (2.21.0)\n",
      "Collecting lxml>=3.8.0 (from tushare)\n",
      "\u001b[?25l  Downloading https://files.pythonhosted.org/packages/a9/3c/2a9b8a58d9e7a8e3123ada3e3420fb3a963420a1ed235d62647a55edb359/lxml-4.3.1-cp36-cp36m-manylinux1_x86_64.whl (5.7MB)\n",
      "\u001b[K    100% |████████████████████████████████| 5.7MB 51kB/s ta 0:00:01   3% |█▏                              | 215kB 60kB/s eta 0:01:31    17% |█████▋                          | 1.0MB 47kB/s eta 0:01:40    20% |██████▊                         | 1.2MB 26kB/s eta 0:02:50    23% |███████▋                        | 1.4MB 31kB/s eta 0:02:19    73% |███████████████████████▌        | 4.2MB 32kB/s eta 0:00:46    90% |█████████████████████████████   | 5.2MB 35kB/s eta 0:00:15\n",
      "\u001b[?25hCollecting simplejson>=3.16.0 (from tushare)\n",
      "\u001b[?25l  Downloading https://files.pythonhosted.org/packages/e3/24/c35fb1c1c315fc0fffe61ea00d3f88e85469004713dab488dee4f35b0aff/simplejson-3.16.0.tar.gz (81kB)\n",
      "\u001b[K    100% |████████████████████████████████| 81kB 28kB/s ta 0:00:01\n",
      "\u001b[?25hCollecting msgpack>=0.5.6 (from tushare)\n",
      "\u001b[?25l  Downloading https://files.pythonhosted.org/packages/92/7e/ae9e91c1bb8d846efafd1f353476e3fd7309778b582d2fb4cea4cc15b9a2/msgpack-0.6.1-cp36-cp36m-manylinux1_x86_64.whl (248kB)\n",
      "\u001b[K    100% |████████████████████████████████| 256kB 37kB/s ta 0:00:01\n",
      "\u001b[?25hRequirement already satisfied: pyzmq>=16.0.0 in /opt/conda/lib/python3.6/site-packages (from tushare) (17.1.2)\n",
      "Requirement already satisfied: python-dateutil>=2.5.0 in /opt/conda/lib/python3.6/site-packages (from pandas>=0.18.0->tushare) (2.8.0)\n",
      "Requirement already satisfied: numpy>=1.9.0 in /opt/conda/lib/python3.6/site-packages (from pandas>=0.18.0->tushare) (1.13.3)\n",
      "Requirement already satisfied: pytz>=2011k in /opt/conda/lib/python3.6/site-packages (from pandas>=0.18.0->tushare) (2018.9)\n",
      "Requirement already satisfied: urllib3<1.25,>=1.21.1 in /opt/conda/lib/python3.6/site-packages (from requests>=2.0.0->tushare) (1.24.1)\n",
      "Requirement already satisfied: idna<2.9,>=2.5 in /opt/conda/lib/python3.6/site-packages (from requests>=2.0.0->tushare) (2.8)\n",
      "Requirement already satisfied: certifi>=2017.4.17 in /opt/conda/lib/python3.6/site-packages (from requests>=2.0.0->tushare) (2018.11.29)\n",
      "Requirement already satisfied: chardet<3.1.0,>=3.0.2 in /opt/conda/lib/python3.6/site-packages (from requests>=2.0.0->tushare) (3.0.4)\n",
      "Requirement already satisfied: six>=1.5 in /opt/conda/lib/python3.6/site-packages (from python-dateutil>=2.5.0->pandas>=0.18.0->tushare) (1.12.0)\n",
      "Building wheels for collected packages: tushare, simplejson\n",
      "  Building wheel for tushare (setup.py) ... \u001b[?25ldone\n",
      "\u001b[?25h  Stored in directory: /home/jovyan/.cache/pip/wheels/c1/0d/95/a0f892fd23e1e99449ba477d92675580939fccda1d404e381f\n",
      "  Building wheel for simplejson (setup.py) ... \u001b[?25ldone\n",
      "\u001b[?25h  Stored in directory: /home/jovyan/.cache/pip/wheels/5d/1a/1e/0350bb3df3e74215cd91325344cc86c2c691f5306eb4d22c77\n",
      "Successfully built tushare simplejson\n",
      "Installing collected packages: lxml, simplejson, msgpack, tushare\n",
      "Successfully installed lxml-4.3.1 msgpack-0.6.1 simplejson-3.16.0 tushare-1.2.21\n"
     ]
    }
   ],
   "source": [
    "!pip install tushare"
   ]
  },
  {
   "cell_type": "code",
   "execution_count": null,
   "metadata": {},
   "outputs": [],
   "source": []
  }
 ],
 "metadata": {
  "kernelspec": {
   "display_name": "Python 3",
   "language": "python",
   "name": "python3"
  },
  "language_info": {
   "codemirror_mode": {
    "name": "ipython",
    "version": 3
   },
   "file_extension": ".py",
   "mimetype": "text/x-python",
   "name": "python",
   "nbconvert_exporter": "python",
   "pygments_lexer": "ipython3",
   "version": "3.6.8"
  }
 },
 "nbformat": 4,
 "nbformat_minor": 2
}
