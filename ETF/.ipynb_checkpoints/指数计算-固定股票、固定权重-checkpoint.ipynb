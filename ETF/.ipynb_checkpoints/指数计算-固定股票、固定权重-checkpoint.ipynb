{
 "cells": [
  {
   "cell_type": "code",
   "execution_count": 1,
   "metadata": {},
   "outputs": [],
   "source": [
    "import tushare as ts\n",
    "token = '6feca07b866ea55bd6024aa5a8891d7bc11afd829d1386c8a2fc8d89'\n",
    "# initial\n",
    "pro = ts.pro_api(token)"
   ]
  },
  {
   "cell_type": "code",
   "execution_count": 169,
   "metadata": {},
   "outputs": [],
   "source": [
    "%matplotlib inline\n",
    "import matplotlib.pyplot as plt\n",
    "import matplotlib.gridspec as gridspec\n",
    "import datetime\n",
    "import pandas as pd\n",
    "import numpy as np\n",
    "from scipy import stats\n",
    "import time"
   ]
  },
  {
   "cell_type": "code",
   "execution_count": 181,
   "metadata": {},
   "outputs": [],
   "source": [
    "index_code = '399300.SZ'"
   ]
  },
  {
   "cell_type": "code",
   "execution_count": 182,
   "metadata": {},
   "outputs": [],
   "source": [
    "# weight %\n",
    "t = datetime.date.today()\n",
    "start_date = datetime.datetime(t.year, t.month, 1)\n",
    "start_date_str = start_date.strftime(\"%Y%m%d\")\n",
    "end_date_str = t.strftime(\"%Y%m%d\")\n",
    "etf300 = pro.index_weight(index_code=index_code, start_date=start_date_str, end_date=end_date_str)"
   ]
  },
  {
   "cell_type": "code",
   "execution_count": 183,
   "metadata": {},
   "outputs": [
    {
     "data": {
      "text/html": [
       "<div>\n",
       "<style scoped>\n",
       "    .dataframe tbody tr th:only-of-type {\n",
       "        vertical-align: middle;\n",
       "    }\n",
       "\n",
       "    .dataframe tbody tr th {\n",
       "        vertical-align: top;\n",
       "    }\n",
       "\n",
       "    .dataframe thead th {\n",
       "        text-align: right;\n",
       "    }\n",
       "</style>\n",
       "<table border=\"1\" class=\"dataframe\">\n",
       "  <thead>\n",
       "    <tr style=\"text-align: right;\">\n",
       "      <th></th>\n",
       "      <th>index_code</th>\n",
       "      <th>con_code</th>\n",
       "      <th>trade_date</th>\n",
       "      <th>weight</th>\n",
       "    </tr>\n",
       "  </thead>\n",
       "  <tbody>\n",
       "    <tr>\n",
       "      <th>295</th>\n",
       "      <td>399300.SZ</td>\n",
       "      <td>000157.SZ</td>\n",
       "      <td>20190201</td>\n",
       "      <td>0.1663</td>\n",
       "    </tr>\n",
       "    <tr>\n",
       "      <th>296</th>\n",
       "      <td>399300.SZ</td>\n",
       "      <td>000069.SZ</td>\n",
       "      <td>20190201</td>\n",
       "      <td>0.2591</td>\n",
       "    </tr>\n",
       "    <tr>\n",
       "      <th>297</th>\n",
       "      <td>399300.SZ</td>\n",
       "      <td>000063.SZ</td>\n",
       "      <td>20190201</td>\n",
       "      <td>0.4793</td>\n",
       "    </tr>\n",
       "    <tr>\n",
       "      <th>298</th>\n",
       "      <td>399300.SZ</td>\n",
       "      <td>000002.SZ</td>\n",
       "      <td>20190201</td>\n",
       "      <td>1.3283</td>\n",
       "    </tr>\n",
       "    <tr>\n",
       "      <th>299</th>\n",
       "      <td>399300.SZ</td>\n",
       "      <td>000001.SZ</td>\n",
       "      <td>20190201</td>\n",
       "      <td>0.9491</td>\n",
       "    </tr>\n",
       "  </tbody>\n",
       "</table>\n",
       "</div>"
      ],
      "text/plain": [
       "    index_code   con_code trade_date  weight\n",
       "295  399300.SZ  000157.SZ   20190201  0.1663\n",
       "296  399300.SZ  000069.SZ   20190201  0.2591\n",
       "297  399300.SZ  000063.SZ   20190201  0.4793\n",
       "298  399300.SZ  000002.SZ   20190201  1.3283\n",
       "299  399300.SZ  000001.SZ   20190201  0.9491"
      ]
     },
     "execution_count": 183,
     "metadata": {},
     "output_type": "execute_result"
    }
   ],
   "source": [
    "etf300.tail()"
   ]
  },
  {
   "cell_type": "code",
   "execution_count": 184,
   "metadata": {},
   "outputs": [],
   "source": [
    "# index daily price\n",
    "time_spread = 10 # Years\n",
    "t = datetime.date.today()\n",
    "end_date = t\n",
    "start_date = datetime.datetime(t.year - time_spread, t.month, t.day)\n",
    "end_date_str = end_date.strftime(\"%Y%m%d\")\n",
    "start_date_str = start_date.strftime(\"%Y%m%d\")\n",
    "p_t = ['trade_date'] #, 'open', 'high', 'low', 'close']\n",
    "price = pro.index_daily(ts_code=index_code, start_date=start_date_str, end_date=end_date_str)\n",
    "p = price[p_t] #.sort_values(by='trade_date')\n",
    "#p['trade_date'] = pd.to_datetime(p['trade_date'])\n",
    "#p.set_index(\"trade_date\", inplace=True)"
   ]
  },
  {
   "cell_type": "code",
   "execution_count": 185,
   "metadata": {
    "scrolled": true
   },
   "outputs": [],
   "source": [
    "#p = p.assign(pe=0.0, pb=0.0)"
   ]
  },
  {
   "cell_type": "code",
   "execution_count": 186,
   "metadata": {},
   "outputs": [
    {
     "data": {
      "text/html": [
       "<div>\n",
       "<style scoped>\n",
       "    .dataframe tbody tr th:only-of-type {\n",
       "        vertical-align: middle;\n",
       "    }\n",
       "\n",
       "    .dataframe tbody tr th {\n",
       "        vertical-align: top;\n",
       "    }\n",
       "\n",
       "    .dataframe thead th {\n",
       "        text-align: right;\n",
       "    }\n",
       "</style>\n",
       "<table border=\"1\" class=\"dataframe\">\n",
       "  <thead>\n",
       "    <tr style=\"text-align: right;\">\n",
       "      <th></th>\n",
       "      <th>trade_date</th>\n",
       "    </tr>\n",
       "  </thead>\n",
       "  <tbody>\n",
       "    <tr>\n",
       "      <th>0</th>\n",
       "      <td>20190222</td>\n",
       "    </tr>\n",
       "    <tr>\n",
       "      <th>1</th>\n",
       "      <td>20190221</td>\n",
       "    </tr>\n",
       "    <tr>\n",
       "      <th>2</th>\n",
       "      <td>20190220</td>\n",
       "    </tr>\n",
       "    <tr>\n",
       "      <th>3</th>\n",
       "      <td>20190219</td>\n",
       "    </tr>\n",
       "    <tr>\n",
       "      <th>4</th>\n",
       "      <td>20190218</td>\n",
       "    </tr>\n",
       "  </tbody>\n",
       "</table>\n",
       "</div>"
      ],
      "text/plain": [
       "  trade_date\n",
       "0   20190222\n",
       "1   20190221\n",
       "2   20190220\n",
       "3   20190219\n",
       "4   20190218"
      ]
     },
     "execution_count": 186,
     "metadata": {},
     "output_type": "execute_result"
    }
   ],
   "source": [
    "p.head()"
   ]
  },
  {
   "cell_type": "code",
   "execution_count": 187,
   "metadata": {},
   "outputs": [
    {
     "data": {
      "text/plain": [
       "2434"
      ]
     },
     "execution_count": 187,
     "metadata": {},
     "output_type": "execute_result"
    }
   ],
   "source": [
    "len(p)"
   ]
  },
  {
   "cell_type": "code",
   "execution_count": 188,
   "metadata": {},
   "outputs": [],
   "source": [
    "r_t = 'ts_code,trade_date,pe' #,pb,circ_mv,total_mv,"
   ]
  },
  {
   "cell_type": "code",
   "execution_count": 189,
   "metadata": {},
   "outputs": [],
   "source": [
    "#cs = ['000157.SZ','000069.SZ','000063.SZ','000002.SZ','000001.SZ']"
   ]
  },
  {
   "cell_type": "code",
   "execution_count": 190,
   "metadata": {},
   "outputs": [],
   "source": [
    "cs = etf300['con_code'].values"
   ]
  },
  {
   "cell_type": "code",
   "execution_count": 191,
   "metadata": {
    "scrolled": true
   },
   "outputs": [
    {
     "data": {
      "text/plain": [
       "300"
      ]
     },
     "execution_count": 191,
     "metadata": {},
     "output_type": "execute_result"
    }
   ],
   "source": [
    "len(cs)"
   ]
  },
  {
   "cell_type": "code",
   "execution_count": 192,
   "metadata": {
    "scrolled": true
   },
   "outputs": [
    {
     "name": "stdout",
     "output_type": "stream",
     "text": [
      "10\n",
      "20\n",
      "30\n",
      "40\n",
      "50\n",
      "60\n",
      "70\n",
      "80\n",
      "90\n",
      "100\n",
      "110\n",
      "120\n",
      "130\n",
      "140\n",
      "150\n",
      "160\n",
      "170\n",
      "180\n",
      "190\n",
      "200\n",
      "210\n",
      "220\n",
      "230\n",
      "240\n",
      "250\n",
      "260\n",
      "270\n",
      "280\n",
      "290\n",
      "300\n"
     ]
    }
   ],
   "source": [
    "i=0\n",
    "for c in cs:\n",
    "    df = pro.daily_basic(ts_code=c, start_date=start_date_str, end_date=end_date_str, fields=r_t)\n",
    "    df = df.drop(['ts_code'], axis=1)\n",
    "    p = pd.merge(p,df,how='left')\n",
    "    p = p.rename({'pe':c}, axis=1)\n",
    "    time.sleep(0.3)\n",
    "    i=i+1\n",
    "    if(i%10==0):\n",
    "        print(i)\n",
    "    #print(c)"
   ]
  },
  {
   "cell_type": "code",
   "execution_count": 193,
   "metadata": {},
   "outputs": [
    {
     "data": {
      "text/html": [
       "<div>\n",
       "<style scoped>\n",
       "    .dataframe tbody tr th:only-of-type {\n",
       "        vertical-align: middle;\n",
       "    }\n",
       "\n",
       "    .dataframe tbody tr th {\n",
       "        vertical-align: top;\n",
       "    }\n",
       "\n",
       "    .dataframe thead th {\n",
       "        text-align: right;\n",
       "    }\n",
       "</style>\n",
       "<table border=\"1\" class=\"dataframe\">\n",
       "  <thead>\n",
       "    <tr style=\"text-align: right;\">\n",
       "      <th></th>\n",
       "      <th>trade_date</th>\n",
       "      <th>601138.SH</th>\n",
       "      <th>001965.SZ</th>\n",
       "      <th>603259.SH</th>\n",
       "      <th>601066.SH</th>\n",
       "      <th>002925.SZ</th>\n",
       "      <th>600025.SH</th>\n",
       "      <th>603260.SH</th>\n",
       "      <th>001979.SZ</th>\n",
       "      <th>601155.SH</th>\n",
       "      <th>...</th>\n",
       "      <th>000423.SZ</th>\n",
       "      <th>000415.SZ</th>\n",
       "      <th>000413.SZ</th>\n",
       "      <th>000408.SZ</th>\n",
       "      <th>000402.SZ</th>\n",
       "      <th>000157.SZ</th>\n",
       "      <th>000069.SZ</th>\n",
       "      <th>000063.SZ</th>\n",
       "      <th>000002.SZ</th>\n",
       "      <th>000001.SZ</th>\n",
       "    </tr>\n",
       "  </thead>\n",
       "  <tbody>\n",
       "    <tr>\n",
       "      <th>0</th>\n",
       "      <td>20190222</td>\n",
       "      <td>17.4889</td>\n",
       "      <td>15.6097</td>\n",
       "      <td>81.3165</td>\n",
       "      <td>31.3249</td>\n",
       "      <td>27.2779</td>\n",
       "      <td>28.5346</td>\n",
       "      <td>24.7821</td>\n",
       "      <td>13.5509</td>\n",
       "      <td>11.7873</td>\n",
       "      <td>...</td>\n",
       "      <td>14.1563</td>\n",
       "      <td>10.1103</td>\n",
       "      <td>17.9105</td>\n",
       "      <td>18.9958</td>\n",
       "      <td>7.3371</td>\n",
       "      <td>24.0367</td>\n",
       "      <td>6.2172</td>\n",
       "      <td>25.5516</td>\n",
       "      <td>10.6134</td>\n",
       "      <td>8.5449</td>\n",
       "    </tr>\n",
       "    <tr>\n",
       "      <th>1</th>\n",
       "      <td>20190221</td>\n",
       "      <td>16.9800</td>\n",
       "      <td>15.5180</td>\n",
       "      <td>78.4845</td>\n",
       "      <td>28.4686</td>\n",
       "      <td>28.2753</td>\n",
       "      <td>28.3701</td>\n",
       "      <td>23.5012</td>\n",
       "      <td>13.6156</td>\n",
       "      <td>11.4429</td>\n",
       "      <td>...</td>\n",
       "      <td>14.2491</td>\n",
       "      <td>9.4519</td>\n",
       "      <td>17.6147</td>\n",
       "      <td>18.9794</td>\n",
       "      <td>7.2078</td>\n",
       "      <td>23.6849</td>\n",
       "      <td>6.2552</td>\n",
       "      <td>23.2295</td>\n",
       "      <td>10.6056</td>\n",
       "      <td>8.4116</td>\n",
       "    </tr>\n",
       "    <tr>\n",
       "      <th>2</th>\n",
       "      <td>20190220</td>\n",
       "      <td>17.2034</td>\n",
       "      <td>15.6281</td>\n",
       "      <td>80.0960</td>\n",
       "      <td>26.8499</td>\n",
       "      <td>27.6228</td>\n",
       "      <td>28.0412</td>\n",
       "      <td>24.3271</td>\n",
       "      <td>13.7450</td>\n",
       "      <td>11.4841</td>\n",
       "      <td>...</td>\n",
       "      <td>14.4154</td>\n",
       "      <td>9.1698</td>\n",
       "      <td>17.6804</td>\n",
       "      <td>18.5853</td>\n",
       "      <td>7.3172</td>\n",
       "      <td>23.6849</td>\n",
       "      <td>6.3406</td>\n",
       "      <td>22.0272</td>\n",
       "      <td>10.8732</td>\n",
       "      <td>8.4486</td>\n",
       "    </tr>\n",
       "    <tr>\n",
       "      <th>3</th>\n",
       "      <td>20190219</td>\n",
       "      <td>17.2779</td>\n",
       "      <td>15.7198</td>\n",
       "      <td>80.7634</td>\n",
       "      <td>26.1644</td>\n",
       "      <td>27.0309</td>\n",
       "      <td>27.8767</td>\n",
       "      <td>24.1107</td>\n",
       "      <td>13.0141</td>\n",
       "      <td>11.4017</td>\n",
       "      <td>...</td>\n",
       "      <td>14.4730</td>\n",
       "      <td>9.3344</td>\n",
       "      <td>18.0748</td>\n",
       "      <td>18.4704</td>\n",
       "      <td>7.3371</td>\n",
       "      <td>23.6849</td>\n",
       "      <td>6.2077</td>\n",
       "      <td>22.0823</td>\n",
       "      <td>10.6370</td>\n",
       "      <td>8.3449</td>\n",
       "    </tr>\n",
       "    <tr>\n",
       "      <th>4</th>\n",
       "      <td>20190218</td>\n",
       "      <td>17.3151</td>\n",
       "      <td>15.6831</td>\n",
       "      <td>81.2211</td>\n",
       "      <td>25.6122</td>\n",
       "      <td>26.7746</td>\n",
       "      <td>27.9590</td>\n",
       "      <td>24.3846</td>\n",
       "      <td>12.9683</td>\n",
       "      <td>11.5140</td>\n",
       "      <td>...</td>\n",
       "      <td>14.6714</td>\n",
       "      <td>8.9582</td>\n",
       "      <td>17.9105</td>\n",
       "      <td>18.5853</td>\n",
       "      <td>7.3570</td>\n",
       "      <td>23.8608</td>\n",
       "      <td>6.2172</td>\n",
       "      <td>22.1557</td>\n",
       "      <td>10.7039</td>\n",
       "      <td>8.4116</td>\n",
       "    </tr>\n",
       "  </tbody>\n",
       "</table>\n",
       "<p>5 rows × 301 columns</p>\n",
       "</div>"
      ],
      "text/plain": [
       "  trade_date  601138.SH  001965.SZ  603259.SH  601066.SH  002925.SZ  \\\n",
       "0   20190222    17.4889    15.6097    81.3165    31.3249    27.2779   \n",
       "1   20190221    16.9800    15.5180    78.4845    28.4686    28.2753   \n",
       "2   20190220    17.2034    15.6281    80.0960    26.8499    27.6228   \n",
       "3   20190219    17.2779    15.7198    80.7634    26.1644    27.0309   \n",
       "4   20190218    17.3151    15.6831    81.2211    25.6122    26.7746   \n",
       "\n",
       "   600025.SH  603260.SH  001979.SZ  601155.SH    ...      000423.SZ  \\\n",
       "0    28.5346    24.7821    13.5509    11.7873    ...        14.1563   \n",
       "1    28.3701    23.5012    13.6156    11.4429    ...        14.2491   \n",
       "2    28.0412    24.3271    13.7450    11.4841    ...        14.4154   \n",
       "3    27.8767    24.1107    13.0141    11.4017    ...        14.4730   \n",
       "4    27.9590    24.3846    12.9683    11.5140    ...        14.6714   \n",
       "\n",
       "   000415.SZ  000413.SZ  000408.SZ  000402.SZ  000157.SZ  000069.SZ  \\\n",
       "0    10.1103    17.9105    18.9958     7.3371    24.0367     6.2172   \n",
       "1     9.4519    17.6147    18.9794     7.2078    23.6849     6.2552   \n",
       "2     9.1698    17.6804    18.5853     7.3172    23.6849     6.3406   \n",
       "3     9.3344    18.0748    18.4704     7.3371    23.6849     6.2077   \n",
       "4     8.9582    17.9105    18.5853     7.3570    23.8608     6.2172   \n",
       "\n",
       "   000063.SZ  000002.SZ  000001.SZ  \n",
       "0    25.5516    10.6134     8.5449  \n",
       "1    23.2295    10.6056     8.4116  \n",
       "2    22.0272    10.8732     8.4486  \n",
       "3    22.0823    10.6370     8.3449  \n",
       "4    22.1557    10.7039     8.4116  \n",
       "\n",
       "[5 rows x 301 columns]"
      ]
     },
     "execution_count": 193,
     "metadata": {},
     "output_type": "execute_result"
    }
   ],
   "source": [
    "p.head()"
   ]
  },
  {
   "cell_type": "code",
   "execution_count": 194,
   "metadata": {},
   "outputs": [],
   "source": [
    "p.fillna(method='ffill', inplace=True)"
   ]
  },
  {
   "cell_type": "code",
   "execution_count": 195,
   "metadata": {},
   "outputs": [],
   "source": [
    "w = etf300['weight']"
   ]
  },
  {
   "cell_type": "code",
   "execution_count": 204,
   "metadata": {},
   "outputs": [
    {
     "data": {
      "text/plain": [
       "100.0005"
      ]
     },
     "execution_count": 204,
     "metadata": {},
     "output_type": "execute_result"
    }
   ],
   "source": [
    "etf300['weight'].sum()"
   ]
  },
  {
   "cell_type": "code",
   "execution_count": 196,
   "metadata": {},
   "outputs": [],
   "source": [
    "w=w.values/100"
   ]
  },
  {
   "cell_type": "code",
   "execution_count": 198,
   "metadata": {},
   "outputs": [],
   "source": [
    "p = p.sort_values(by='trade_date')\n",
    "p['trade_date'] = pd.to_datetime(p['trade_date'])\n",
    "p.set_index(\"trade_date\", inplace=True)"
   ]
  },
  {
   "cell_type": "code",
   "execution_count": 212,
   "metadata": {},
   "outputs": [
    {
     "data": {
      "text/html": [
       "<div>\n",
       "<style scoped>\n",
       "    .dataframe tbody tr th:only-of-type {\n",
       "        vertical-align: middle;\n",
       "    }\n",
       "\n",
       "    .dataframe tbody tr th {\n",
       "        vertical-align: top;\n",
       "    }\n",
       "\n",
       "    .dataframe thead th {\n",
       "        text-align: right;\n",
       "    }\n",
       "</style>\n",
       "<table border=\"1\" class=\"dataframe\">\n",
       "  <thead>\n",
       "    <tr style=\"text-align: right;\">\n",
       "      <th></th>\n",
       "      <th>601138.SH</th>\n",
       "      <th>001965.SZ</th>\n",
       "      <th>603259.SH</th>\n",
       "      <th>601066.SH</th>\n",
       "      <th>002925.SZ</th>\n",
       "      <th>600025.SH</th>\n",
       "      <th>603260.SH</th>\n",
       "      <th>001979.SZ</th>\n",
       "      <th>601155.SH</th>\n",
       "      <th>601108.SH</th>\n",
       "      <th>...</th>\n",
       "      <th>000423.SZ</th>\n",
       "      <th>000415.SZ</th>\n",
       "      <th>000413.SZ</th>\n",
       "      <th>000408.SZ</th>\n",
       "      <th>000402.SZ</th>\n",
       "      <th>000157.SZ</th>\n",
       "      <th>000069.SZ</th>\n",
       "      <th>000063.SZ</th>\n",
       "      <th>000002.SZ</th>\n",
       "      <th>000001.SZ</th>\n",
       "    </tr>\n",
       "    <tr>\n",
       "      <th>trade_date</th>\n",
       "      <th></th>\n",
       "      <th></th>\n",
       "      <th></th>\n",
       "      <th></th>\n",
       "      <th></th>\n",
       "      <th></th>\n",
       "      <th></th>\n",
       "      <th></th>\n",
       "      <th></th>\n",
       "      <th></th>\n",
       "      <th></th>\n",
       "      <th></th>\n",
       "      <th></th>\n",
       "      <th></th>\n",
       "      <th></th>\n",
       "      <th></th>\n",
       "      <th></th>\n",
       "      <th></th>\n",
       "      <th></th>\n",
       "      <th></th>\n",
       "      <th></th>\n",
       "    </tr>\n",
       "  </thead>\n",
       "  <tbody>\n",
       "    <tr>\n",
       "      <th>2019-02-18</th>\n",
       "      <td>17.3151</td>\n",
       "      <td>15.6831</td>\n",
       "      <td>81.2211</td>\n",
       "      <td>25.6122</td>\n",
       "      <td>26.7746</td>\n",
       "      <td>27.9590</td>\n",
       "      <td>24.3846</td>\n",
       "      <td>12.9683</td>\n",
       "      <td>11.5140</td>\n",
       "      <td>21.1197</td>\n",
       "      <td>...</td>\n",
       "      <td>14.6714</td>\n",
       "      <td>8.9582</td>\n",
       "      <td>17.9105</td>\n",
       "      <td>18.5853</td>\n",
       "      <td>7.3570</td>\n",
       "      <td>23.8608</td>\n",
       "      <td>6.2172</td>\n",
       "      <td>22.1557</td>\n",
       "      <td>10.7039</td>\n",
       "      <td>8.4116</td>\n",
       "    </tr>\n",
       "    <tr>\n",
       "      <th>2019-02-19</th>\n",
       "      <td>17.2779</td>\n",
       "      <td>15.7198</td>\n",
       "      <td>80.7634</td>\n",
       "      <td>26.1644</td>\n",
       "      <td>27.0309</td>\n",
       "      <td>27.8767</td>\n",
       "      <td>24.1107</td>\n",
       "      <td>13.0141</td>\n",
       "      <td>11.4017</td>\n",
       "      <td>21.5970</td>\n",
       "      <td>...</td>\n",
       "      <td>14.4730</td>\n",
       "      <td>9.3344</td>\n",
       "      <td>18.0748</td>\n",
       "      <td>18.4704</td>\n",
       "      <td>7.3371</td>\n",
       "      <td>23.6849</td>\n",
       "      <td>6.2077</td>\n",
       "      <td>22.0823</td>\n",
       "      <td>10.6370</td>\n",
       "      <td>8.3449</td>\n",
       "    </tr>\n",
       "    <tr>\n",
       "      <th>2019-02-20</th>\n",
       "      <td>17.2034</td>\n",
       "      <td>15.6281</td>\n",
       "      <td>80.0960</td>\n",
       "      <td>26.8499</td>\n",
       "      <td>27.6228</td>\n",
       "      <td>28.0412</td>\n",
       "      <td>24.3271</td>\n",
       "      <td>13.7450</td>\n",
       "      <td>11.4841</td>\n",
       "      <td>21.4538</td>\n",
       "      <td>...</td>\n",
       "      <td>14.4154</td>\n",
       "      <td>9.1698</td>\n",
       "      <td>17.6804</td>\n",
       "      <td>18.5853</td>\n",
       "      <td>7.3172</td>\n",
       "      <td>23.6849</td>\n",
       "      <td>6.3406</td>\n",
       "      <td>22.0272</td>\n",
       "      <td>10.8732</td>\n",
       "      <td>8.4486</td>\n",
       "    </tr>\n",
       "    <tr>\n",
       "      <th>2019-02-21</th>\n",
       "      <td>16.9800</td>\n",
       "      <td>15.5180</td>\n",
       "      <td>78.4845</td>\n",
       "      <td>28.4686</td>\n",
       "      <td>28.2753</td>\n",
       "      <td>28.3701</td>\n",
       "      <td>23.5012</td>\n",
       "      <td>13.6156</td>\n",
       "      <td>11.4429</td>\n",
       "      <td>21.5254</td>\n",
       "      <td>...</td>\n",
       "      <td>14.2491</td>\n",
       "      <td>9.4519</td>\n",
       "      <td>17.6147</td>\n",
       "      <td>18.9794</td>\n",
       "      <td>7.2078</td>\n",
       "      <td>23.6849</td>\n",
       "      <td>6.2552</td>\n",
       "      <td>23.2295</td>\n",
       "      <td>10.6056</td>\n",
       "      <td>8.4116</td>\n",
       "    </tr>\n",
       "    <tr>\n",
       "      <th>2019-02-22</th>\n",
       "      <td>17.4889</td>\n",
       "      <td>15.6097</td>\n",
       "      <td>81.3165</td>\n",
       "      <td>31.3249</td>\n",
       "      <td>27.2779</td>\n",
       "      <td>28.5346</td>\n",
       "      <td>24.7821</td>\n",
       "      <td>13.5509</td>\n",
       "      <td>11.7873</td>\n",
       "      <td>23.6732</td>\n",
       "      <td>...</td>\n",
       "      <td>14.1563</td>\n",
       "      <td>10.1103</td>\n",
       "      <td>17.9105</td>\n",
       "      <td>18.9958</td>\n",
       "      <td>7.3371</td>\n",
       "      <td>24.0367</td>\n",
       "      <td>6.2172</td>\n",
       "      <td>25.5516</td>\n",
       "      <td>10.6134</td>\n",
       "      <td>8.5449</td>\n",
       "    </tr>\n",
       "  </tbody>\n",
       "</table>\n",
       "<p>5 rows × 300 columns</p>\n",
       "</div>"
      ],
      "text/plain": [
       "            601138.SH  001965.SZ  603259.SH  601066.SH  002925.SZ  600025.SH  \\\n",
       "trade_date                                                                     \n",
       "2019-02-18    17.3151    15.6831    81.2211    25.6122    26.7746    27.9590   \n",
       "2019-02-19    17.2779    15.7198    80.7634    26.1644    27.0309    27.8767   \n",
       "2019-02-20    17.2034    15.6281    80.0960    26.8499    27.6228    28.0412   \n",
       "2019-02-21    16.9800    15.5180    78.4845    28.4686    28.2753    28.3701   \n",
       "2019-02-22    17.4889    15.6097    81.3165    31.3249    27.2779    28.5346   \n",
       "\n",
       "            603260.SH  001979.SZ  601155.SH  601108.SH    ...      000423.SZ  \\\n",
       "trade_date                                                ...                  \n",
       "2019-02-18    24.3846    12.9683    11.5140    21.1197    ...        14.6714   \n",
       "2019-02-19    24.1107    13.0141    11.4017    21.5970    ...        14.4730   \n",
       "2019-02-20    24.3271    13.7450    11.4841    21.4538    ...        14.4154   \n",
       "2019-02-21    23.5012    13.6156    11.4429    21.5254    ...        14.2491   \n",
       "2019-02-22    24.7821    13.5509    11.7873    23.6732    ...        14.1563   \n",
       "\n",
       "            000415.SZ  000413.SZ  000408.SZ  000402.SZ  000157.SZ  000069.SZ  \\\n",
       "trade_date                                                                     \n",
       "2019-02-18     8.9582    17.9105    18.5853     7.3570    23.8608     6.2172   \n",
       "2019-02-19     9.3344    18.0748    18.4704     7.3371    23.6849     6.2077   \n",
       "2019-02-20     9.1698    17.6804    18.5853     7.3172    23.6849     6.3406   \n",
       "2019-02-21     9.4519    17.6147    18.9794     7.2078    23.6849     6.2552   \n",
       "2019-02-22    10.1103    17.9105    18.9958     7.3371    24.0367     6.2172   \n",
       "\n",
       "            000063.SZ  000002.SZ  000001.SZ  \n",
       "trade_date                                   \n",
       "2019-02-18    22.1557    10.7039     8.4116  \n",
       "2019-02-19    22.0823    10.6370     8.3449  \n",
       "2019-02-20    22.0272    10.8732     8.4486  \n",
       "2019-02-21    23.2295    10.6056     8.4116  \n",
       "2019-02-22    25.5516    10.6134     8.5449  \n",
       "\n",
       "[5 rows x 300 columns]"
      ]
     },
     "execution_count": 212,
     "metadata": {},
     "output_type": "execute_result"
    }
   ],
   "source": [
    "p.tail()"
   ]
  },
  {
   "cell_type": "code",
   "execution_count": 207,
   "metadata": {
    "scrolled": true
   },
   "outputs": [
    {
     "data": {
      "text/plain": [
       "601138.SH      24.6135\n",
       "001965.SZ      24.0516\n",
       "603259.SH      26.4085\n",
       "601066.SH      14.8532\n",
       "002925.SZ      33.1044\n",
       "600025.SH     110.5147\n",
       "603260.SH      28.9036\n",
       "001979.SZ      53.5402\n",
       "601155.SH      42.9501\n",
       "601108.SH      32.9381\n",
       "601228.SH      30.4638\n",
       "603833.SH      31.5265\n",
       "601881.SH      10.1110\n",
       "300408.SZ      32.0451\n",
       "603858.SH      15.5126\n",
       "600977.SH      27.6077\n",
       "601611.SH      16.4570\n",
       "601212.SH     161.2639\n",
       "603799.SH      29.9721\n",
       "300433.SZ      18.9445\n",
       "603160.SH      32.8852\n",
       "603986.SH      21.2254\n",
       "601985.SH      30.7311\n",
       "601828.SH      17.0789\n",
       "601021.SH      14.2851\n",
       "600023.SH      23.1187\n",
       "000333.SZ      21.8545\n",
       "601808.SH      29.5324\n",
       "601939.SH      14.5182\n",
       "002179.SZ      36.8488\n",
       "               ...    \n",
       "000792.SZ      44.6442\n",
       "000786.SZ      20.1807\n",
       "000783.SZ      10.3804\n",
       "000776.SZ      24.5288\n",
       "000768.SZ     273.2209\n",
       "000728.SZ      10.3464\n",
       "000725.SZ      20.3831\n",
       "000709.SZ      10.3122\n",
       "000703.SZ      16.0704\n",
       "000671.SZ      87.9167\n",
       "000661.SZ     292.9397\n",
       "000651.SZ      23.5239\n",
       "000630.SZ      16.4224\n",
       "000627.SZ      39.9178\n",
       "000625.SZ      22.7490\n",
       "000568.SZ      41.6090\n",
       "000553.SZ     169.7451\n",
       "000538.SZ      62.9295\n",
       "000503.SZ    1262.1651\n",
       "000425.SZ     549.6865\n",
       "000423.SZ      46.3945\n",
       "000415.SZ     145.9555\n",
       "000413.SZ     221.5234\n",
       "000408.SZ     415.1631\n",
       "000402.SZ      32.3155\n",
       "000157.SZ      24.5443\n",
       "000069.SZ      39.2969\n",
       "000063.SZ      35.8856\n",
       "000002.SZ      18.3850\n",
       "000001.SZ      17.5669\n",
       "Name: 2009-02-23 00:00:00, Length: 300, dtype: float64"
      ]
     },
     "execution_count": 207,
     "metadata": {},
     "output_type": "execute_result"
    }
   ],
   "source": [
    "p.iloc[0]"
   ]
  },
  {
   "cell_type": "code",
   "execution_count": 210,
   "metadata": {
    "scrolled": true
   },
   "outputs": [
    {
     "data": {
      "text/plain": [
       "array([ 0.001388,  0.000455,  0.000799,  0.000536,  0.00045 ,  0.000586,\n",
       "        0.000351,  0.004451,  0.002618,  0.000288,  0.000739,  0.001109,\n",
       "        0.000993,  0.001798,  0.00107 ,  0.001159,  0.000536,  0.000248,\n",
       "        0.00133 ,  0.000473,  0.000661,  0.000998,  0.002503,  0.000357,\n",
       "        0.000876,  0.001812,  0.020265,  0.000508,  0.00468 ,  0.00142 ,\n",
       "        0.008779,  0.000526,  0.002133,  0.000949,  0.005915,  0.00272 ,\n",
       "        0.000944,  0.000804,  0.002486,  0.001691,  0.003316,  0.00042 ,\n",
       "        0.00305 ,  0.000987,  0.000751,  0.000916,  0.000741,  0.004319,\n",
       "        0.000244,  0.001014,  0.001129,  0.000879,  0.001169,  0.000702,\n",
       "        0.003095,  0.007611,  0.002074,  0.003003,  0.001429,  0.004273,\n",
       "        0.00158 ,  0.001181,  0.002292,  0.001779,  0.002996,  0.001323,\n",
       "        0.000821,  0.001741,  0.006397,  0.004069,  0.00345 ,  0.002313,\n",
       "        0.000576,  0.001322,  0.002197,  0.001558,  0.000839,  0.001885,\n",
       "        0.004402,  0.000896,  0.001422,  0.001946,  0.001916,  0.011486,\n",
       "        0.000581,  0.004742,  0.006364,  0.001526,  0.000928,  0.00266 ,\n",
       "        0.001102,  0.002243,  0.002212,  0.001067,  0.002079,  0.001865,\n",
       "        0.000838,  0.003947,  0.005251,  0.004174,  0.000854,  0.001733,\n",
       "        0.00082 ,  0.008289,  0.001847,  0.00146 ,  0.012701,  0.006218,\n",
       "        0.001508,  0.000306,  0.014066,  0.001326,  0.001362,  0.00103 ,\n",
       "        0.000897,  0.001203,  0.002539,  0.001311,  0.000913,  0.002414,\n",
       "        0.00412 ,  0.004605,  0.00084 ,  0.003597,  0.001523,  0.009581,\n",
       "        0.003135,  0.004945,  0.005873,  0.00589 ,  0.003908,  0.004079,\n",
       "        0.004519,  0.001643,  0.00235 ,  0.016868,  0.001724,  0.004288,\n",
       "        0.067584,  0.020164,  0.000464,  0.00376 ,  0.001165,  0.000754,\n",
       "        0.012028,  0.000947,  0.001736,  0.001343,  0.002422,  0.005106,\n",
       "        0.009064,  0.001571,  0.000896,  0.001225,  0.007655,  0.001423,\n",
       "        0.002939,  0.001335,  0.000855,  0.004093,  0.003981,  0.001518,\n",
       "        0.002799,  0.0019  ,  0.001312,  0.00206 ,  0.003038,  0.004959,\n",
       "        0.010651,  0.00356 ,  0.004605,  0.002266,  0.002331,  0.001373,\n",
       "        0.002595,  0.002411,  0.00274 ,  0.005108,  0.002718,  0.003208,\n",
       "        0.001185,  0.014434,  0.00101 ,  0.001944,  0.004924,  0.00198 ,\n",
       "        0.001667,  0.001982,  0.014722,  0.003323,  0.001682,  0.001875,\n",
       "        0.008219,  0.00089 ,  0.001025,  0.002863,  0.001246,  0.003166,\n",
       "        0.001234,  0.001958,  0.000808,  0.002531,  0.005846,  0.001122,\n",
       "        0.001589,  0.003248,  0.002044,  0.002324,  0.002347,  0.006415,\n",
       "        0.00117 ,  0.001104,  0.034353,  0.001891,  0.001963,  0.000986,\n",
       "        0.00158 ,  0.00038 ,  0.002451,  0.000711,  0.001109,  0.001376,\n",
       "        0.000987,  0.00061 ,  0.001881,  0.005576,  0.001056,  0.013262,\n",
       "        0.000436,  0.002124,  0.001536,  0.001222,  0.002388,  0.000797,\n",
       "        0.001898,  0.002103,  0.001419,  0.000993,  0.001296,  0.00106 ,\n",
       "        0.001956,  0.001872,  0.001872,  0.00922 ,  0.001788,  0.002647,\n",
       "        0.001459,  0.001704,  0.001531,  0.000766,  0.001205,  0.029829,\n",
       "        0.007038,  0.006216,  0.014554,  0.002801,  0.0027  ,  0.004712,\n",
       "        0.012481,  0.000871,  0.00202 ,  0.001153,  0.000617,  0.00063 ,\n",
       "        0.000956,  0.002453,  0.001658,  0.01172 ,  0.000913,  0.000686,\n",
       "        0.000836,  0.001362,  0.002074,  0.003789,  0.001933,  0.001537,\n",
       "        0.00613 ,  0.001287,  0.001683,  0.000907,  0.002615,  0.019931,\n",
       "        0.001253,  0.000834,  0.001482,  0.003163,  0.000252,  0.004161,\n",
       "        0.001015,  0.00154 ,  0.001882,  0.000635,  0.001613,  0.000639,\n",
       "        0.000843,  0.001663,  0.002591,  0.004793,  0.013283,  0.009491])"
      ]
     },
     "execution_count": 210,
     "metadata": {},
     "output_type": "execute_result"
    }
   ],
   "source": [
    "w"
   ]
  },
  {
   "cell_type": "code",
   "execution_count": 211,
   "metadata": {},
   "outputs": [
    {
     "data": {
      "text/plain": [
       "50.9556557027"
      ]
     },
     "execution_count": 211,
     "metadata": {},
     "output_type": "execute_result"
    }
   ],
   "source": [
    "p.iloc[0].mul(w).sum()"
   ]
  },
  {
   "cell_type": "code",
   "execution_count": null,
   "metadata": {},
   "outputs": [],
   "source": []
  },
  {
   "cell_type": "code",
   "execution_count": null,
   "metadata": {},
   "outputs": [],
   "source": []
  },
  {
   "cell_type": "code",
   "execution_count": 202,
   "metadata": {
    "scrolled": true
   },
   "outputs": [],
   "source": [
    "r=p.mul(w)"
   ]
  },
  {
   "cell_type": "code",
   "execution_count": 203,
   "metadata": {
    "scrolled": true
   },
   "outputs": [
    {
     "data": {
      "text/plain": [
       "trade_date\n",
       "2009-02-23    50.955656\n",
       "2009-02-24    50.036861\n",
       "2009-02-25    49.927543\n",
       "2009-02-26    48.670595\n",
       "2009-02-27    47.903631\n",
       "2009-03-02    47.929838\n",
       "2009-03-03    47.492690\n",
       "2009-03-04    48.924885\n",
       "2009-03-05    49.021413\n",
       "2009-03-06    48.768186\n",
       "2009-03-09    48.428289\n",
       "2009-03-10    49.096057\n",
       "2009-03-11    48.968284\n",
       "2009-03-12    49.097894\n",
       "2009-03-13    49.006500\n",
       "2009-03-16    49.446772\n",
       "2009-03-17    54.116522\n",
       "2009-03-18    54.190021\n",
       "2009-03-19    54.474822\n",
       "2009-03-20    54.788362\n",
       "2009-03-23    55.202089\n",
       "2009-03-24    55.460875\n",
       "2009-03-25    54.651225\n",
       "2009-03-26    55.844881\n",
       "2009-03-27    57.311280\n",
       "2009-03-30    94.018304\n",
       "2009-03-31    93.166497\n",
       "2009-04-01    94.044426\n",
       "2009-04-02    95.211269\n",
       "2009-04-03    94.701912\n",
       "                ...    \n",
       "2019-01-07    24.264662\n",
       "2019-01-08    24.205928\n",
       "2019-01-09    24.384134\n",
       "2019-01-10    24.299669\n",
       "2019-01-11    24.499714\n",
       "2019-01-14    24.281752\n",
       "2019-01-15    24.803700\n",
       "2019-01-16    24.778202\n",
       "2019-01-17    24.593256\n",
       "2019-01-18    25.018214\n",
       "2019-01-21    25.168660\n",
       "2019-01-22    24.801156\n",
       "2019-01-23    24.810872\n",
       "2019-01-24    24.967885\n",
       "2019-01-25    24.997057\n",
       "2019-01-28    25.010927\n",
       "2019-01-29    24.997722\n",
       "2019-01-30    24.633462\n",
       "2019-01-31    24.779498\n",
       "2019-02-01    25.269458\n",
       "2019-02-11    25.853344\n",
       "2019-02-12    26.051799\n",
       "2019-02-13    26.758901\n",
       "2019-02-14    26.760870\n",
       "2019-02-15    26.385501\n",
       "2019-02-18    27.051362\n",
       "2019-02-19    26.972331\n",
       "2019-02-20    27.023334\n",
       "2019-02-21    26.997619\n",
       "2019-02-22    27.733220\n",
       "Length: 2434, dtype: float64"
      ]
     },
     "execution_count": 203,
     "metadata": {},
     "output_type": "execute_result"
    }
   ],
   "source": [
    "r.sum(axis=1)"
   ]
  },
  {
   "cell_type": "code",
   "execution_count": 214,
   "metadata": {},
   "outputs": [
    {
     "data": {
      "text/plain": [
       "[<matplotlib.lines.Line2D at 0x7f6758d3a860>]"
      ]
     },
     "execution_count": 214,
     "metadata": {},
     "output_type": "execute_result"
    },
    {
     "data": {
      "image/png": "[encoded data removed]",
      "text/plain": [
       "<Figure size 432x288 with 1 Axes>"
      ]
     },
     "metadata": {
      "needs_background": "light"
     },
     "output_type": "display_data"
    }
   ],
   "source": [
    "plt.plot(r.sum(axis=1))"
   ]
  },
  {
   "cell_type": "code",
   "execution_count": null,
   "metadata": {},
   "outputs": [],
   "source": []
  }
 ],
 "metadata": {
  "kernelspec": {
   "display_name": "Python 3",
   "language": "python",
   "name": "python3"
  },
  "language_info": {
   "codemirror_mode": {
    "name": "ipython",
    "version": 3
   },
   "file_extension": ".py",
   "mimetype": "text/x-python",
   "name": "python",
   "nbconvert_exporter": "python",
   "pygments_lexer": "ipython3",
   "version": "3.6.8"
  }
 },
 "nbformat": 4,
 "nbformat_minor": 2
}
