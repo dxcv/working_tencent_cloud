{
 "cells": [
  {
   "cell_type": "code",
   "execution_count": 1,
   "metadata": {},
   "outputs": [],
   "source": [
    "import tushare as ts\n",
    "token = '6feca07b866ea55bd6024aa5a8891d7bc11afd829d1386c8a2fc8d89'\n",
    "pro = ts.pro_api(token)"
   ]
  },
  {
   "cell_type": "code",
   "execution_count": 231,
   "metadata": {},
   "outputs": [],
   "source": [
    "%matplotlib inline\n",
    "import matplotlib.pyplot as plt\n",
    "import matplotlib.gridspec as gridspec\n",
    "import datetime\n",
    "import pandas as pd\n",
    "import numpy as np\n",
    "from scipy import stats\n",
    "import time\n",
    "import requests\n",
    "from IPython.core.display import HTML\n",
    "from itertools import combinations"
   ]
  },
  {
   "cell_type": "code",
   "execution_count": 3,
   "metadata": {},
   "outputs": [],
   "source": [
    "# choose fund\n",
    "start_date_str = '20160101'\n",
    "end_date_str = '20171231'"
   ]
  },
  {
   "cell_type": "markdown",
   "metadata": {},
   "source": [
    "ETF300 = '510310.SH'\n",
    "df = pro.fund_daily(ts_code=ETF300, start_date=start_date_str, end_date=end_date_str)\n",
    "\n",
    "ETF500 = '512500.SH'\n",
    "df = pro.fund_daily(ts_code=ETF500, start_date=start_date_str, end_date=end_date_str)\n",
    "\n",
    "GOLD = '518880.SH'\n",
    "df = pro.fund_daily(ts_code=GOLD, start_date=start_date_str, end_date=end_date_str)\n",
    "\n",
    "DEBT = '511010.SH'\n",
    "df = pro.fund_daily(ts_code=DEBT, start_date=start_date_str, end_date=end_date_str)\n",
    "\n",
    "df.head()"
   ]
  },
  {
   "cell_type": "code",
   "execution_count": 12,
   "metadata": {},
   "outputs": [],
   "source": [
    "# get data\n",
    "ticks = {\n",
    "    'ETF300':'510310.SH',\n",
    "    #'ETF500' : '512500.SH',\n",
    "    'DEBT' : '511010.SH',\n",
    "    'GOLD' : '518880.SH'\n",
    "}"
   ]
  },
  {
   "cell_type": "code",
   "execution_count": 5,
   "metadata": {},
   "outputs": [],
   "source": [
    "def get_price(code_name, code, start_date_str, end_date_str):\n",
    "    p_t = ['trade_date', 'close'] #['trade_date', 'open', 'high', 'low', 'close', 'vol', 'pct_chg']\n",
    "    \n",
    "    #get data\n",
    "    price = pro.fund_daily(ts_code=code, start_date=start_date_str, end_date=end_date_str)\n",
    "\n",
    "    # set date index and resort data\n",
    "    p = price[p_t].sort_values(by='trade_date')\n",
    "    p['trade_date'] = pd.to_datetime(p['trade_date'])\n",
    "    p.set_index(\"trade_date\", inplace=True)\n",
    "    \n",
    "    p = p.rename({'close':code_name}, axis=1)\n",
    "    \n",
    "    return p"
   ]
  },
  {
   "cell_type": "code",
   "execution_count": 13,
   "metadata": {},
   "outputs": [],
   "source": [
    "# daily price\n",
    "del p\n",
    "p = get_price('ETF300',ticks['ETF300'],start_date_str, end_date_str)\n",
    "for k,v in ticks.items():\n",
    "    p[k] = get_price(k,v,start_date_str, end_date_str)"
   ]
  },
  {
   "cell_type": "code",
   "execution_count": 14,
   "metadata": {},
   "outputs": [],
   "source": [
    "# weekly price\n",
    "wp = 52 * p.asfreq('W-FRI').pct_change().iloc[1:, :]"
   ]
  },
  {
   "cell_type": "code",
   "execution_count": 15,
   "metadata": {},
   "outputs": [
    {
     "name": "stdout",
     "output_type": "stream",
     "text": [
      "ETF300    0.115866\n",
      "DEBT     -0.001739\n",
      "GOLD      0.080039\n",
      "dtype: float64\n",
      "ETF300    0.997870\n",
      "DEBT      0.041489\n",
      "GOLD      0.614865\n",
      "dtype: float64\n",
      "          ETF300      DEBT      GOLD\n",
      "ETF300  0.997870  0.015322  0.012228\n",
      "DEBT    0.015322  0.041489  0.039613\n",
      "GOLD    0.012228  0.039613  0.614865\n"
     ]
    }
   ],
   "source": [
    "# mean, var and cov\n",
    "print(wp.mean())\n",
    "print(wp.var())\n",
    "print(wp.cov())"
   ]
  },
  {
   "cell_type": "markdown",
   "metadata": {},
   "source": [
    "Using r and w to denote, respectively, the return and weight of each individual asset , the portfolio's return and standard deviation can be written as\n",
    "$$r_{p}= \\sum_{i=1}^{n} w_{i} \\cdot r_{i}$$\n",
    "$$\\sigma_{p}= \\sqrt {\\sum_{i=1}^{n}  \\sum_{j=1}^{n} w_{i} \\cdot w_{j} \\cdot \\sigma_{ij}}$$\n",
    "\n",
    "The marginal risk contribution\n",
    "$$mrc_{i}=\\sum_{j=1}^{n} w_{j} \\cdot \\sigma_{ij}$$\n",
    "\n",
    "The total risk contribution\n",
    "$$trc_{i}=\\sum_{j=1}^{n} w_{i} \\cdot w_{j} \\cdot \\sigma_{ij}$$\n",
    "$$\\sigma_{p}^{2} = \\sum_{i=1}^{n} trc_{i}$$\n",
    "\n",
    "Risk Parity - minimum variance portfolio can be obtained by equalizing all the MRCs. - I think something wrong."
   ]
  },
  {
   "cell_type": "code",
   "execution_count": 194,
   "metadata": {},
   "outputs": [],
   "source": [
    "w=np.array([0.1517575 ,  0.66886609,  0.17937641])\n",
    "r=np.array(wp.mean())\n",
    "s=np.array(wp.var())\n",
    "cov=np.array(wp.cov())\n",
    "rp=w.dot(r.T)\n",
    "sp=w.dot(cov)\n",
    "sp=sp.dot(w.T)\n",
    "mrc=w*cov"
   ]
  },
  {
   "cell_type": "code",
   "execution_count": 199,
   "metadata": {},
   "outputs": [],
   "source": [
    "def calc_mrc(w,cov):\n",
    "    mrc=np.zeros(len(cov))\n",
    "    for i in range(0,len(cov)):\n",
    "        for j in range(0,len(cov)):\n",
    "            mrc[i]=mrc[i]+w[j]*cov[i][j]\n",
    "    return mrc\n",
    "# mrc=w.dot(cov)\n",
    "\n",
    "def calc_trc(w,cov):\n",
    "    trc=np.zeros(len(cov))\n",
    "    for i in range(0,len(cov)):\n",
    "        for j in range(0,len(cov)):\n",
    "            trc[i]=trc[i]+w[i]*w[j]*cov[i][j]\n",
    "    return trc"
   ]
  },
  {
   "cell_type": "code",
   "execution_count": 195,
   "metadata": {},
   "outputs": [],
   "source": [
    "mrc=w.dot(cov)\n",
    "trc=calc_trc(w,cov)"
   ]
  },
  {
   "cell_type": "code",
   "execution_count": 196,
   "metadata": {},
   "outputs": [
    {
     "name": "stdout",
     "output_type": "stream",
     "text": [
      "[ 0.16387569  0.03718114  0.13864379]\n",
      "[ 0.02486936  0.0248692   0.02486943]\n",
      "0.0746079923552\n",
      "0.0746079923552\n",
      "[ 0.1517575   0.66886609  0.17937641]\n",
      "[[ 0.99786967  0.01532166  0.0122276 ]\n",
      " [ 0.01532166  0.04148859  0.03961308]\n",
      " [ 0.0122276   0.03961308  0.61486522]]\n"
     ]
    }
   ],
   "source": [
    "print(mrc)\n",
    "print(trc)\n",
    "print(trc.sum())\n",
    "print(sp)\n",
    "print(w)\n",
    "print(cov)"
   ]
  },
  {
   "cell_type": "code",
   "execution_count": 198,
   "metadata": {
    "scrolled": true
   },
   "outputs": [
    {
     "name": "stdout",
     "output_type": "stream",
     "text": [
      "[ 0.  0.  1.] [ 0.0122276   0.03961308  0.61486522] [ 0.          0.          0.61486522] 0.614865219865\n",
      "[ 0.   0.1  0.9] [ 0.01253701  0.03980063  0.55734001] [ 0.          0.00398006  0.50160601] 0.505586068877\n",
      "[ 0.   0.2  0.8] [ 0.01284642  0.03998818  0.49981479] [ 0.          0.00799764  0.39985183] 0.407849470685\n",
      "[ 0.   0.3  0.7] [ 0.01315582  0.04017573  0.44228958] [ 0.          0.01205272  0.30960271] 0.321655425289\n",
      "[ 0.   0.4  0.6] [ 0.01346523  0.04036328  0.38476437] [ 0.          0.01614531  0.23085862] 0.247003932688\n",
      "[ 0.   0.5  0.5] [ 0.01377463  0.04055083  0.32723915] [ 0.          0.02027542  0.16361958] 0.183894992882\n",
      "[ 0.   0.6  0.4] [ 0.01408404  0.04073838  0.26971394] [ 0.          0.02444303  0.10788558] 0.132328605871\n",
      "[ 0.   0.7  0.3] [ 0.01439344  0.04092593  0.21218872] [ 0.          0.02864815  0.06365662] 0.0923047716565\n",
      "[ 0.   0.8  0.2] [ 0.01470285  0.04111349  0.15466351] [ 0.          0.03289079  0.0309327 ] 0.063823490237\n",
      "[ 0.   0.9  0.1] [ 0.01501225  0.04130104  0.0971383 ] [ 0.          0.03717093  0.00971383] 0.0468847616129\n",
      "[ 0.  1.  0.] [ 0.01532166  0.04148859  0.03961308] [ 0.          0.04148859  0.        ] 0.0414885857842\n",
      "[ 0.1  0.   0.9] [ 0.11079181  0.03718394  0.55460146] [ 0.01107918  0.          0.49914131] 0.510220493684\n",
      "[ 0.1  0.1  0.8] [ 0.11110122  0.03737149  0.49707624] [ 0.01111012  0.00373715  0.397661  ] 0.41250826646\n",
      "[ 0.1  0.2  0.7] [ 0.11141062  0.03755904  0.43955103] [ 0.01114106  0.00751181  0.30768572] 0.326338592031\n",
      "[ 0.1  0.3  0.6] [ 0.11172003  0.03774659  0.38202582] [ 0.011172    0.01132398  0.22921549] 0.251711470398\n",
      "[ 0.1  0.4  0.5] [ 0.11202943  0.03793414  0.3245006 ] [ 0.01120294  0.01517366  0.1622503 ] 0.18862690156\n",
      "[ 0.1  0.5  0.4] [ 0.11233884  0.03812169  0.26697539] [ 0.01123388  0.01906085  0.10679016] 0.137084885518\n",
      "[ 0.1  0.6  0.3] [ 0.11264824  0.03830924  0.20945018] [ 0.01126482  0.02298555  0.06283505] 0.0970854222707\n",
      "[ 0.1  0.7  0.2] [ 0.11295765  0.03849679  0.15192496] [ 0.01129576  0.02694775  0.03038499] 0.0686285118191\n",
      "[ 0.1  0.8  0.1] [ 0.11326705  0.03868434  0.09439975] [ 0.01132671  0.03094747  0.00943997] 0.0517141541629\n",
      "[ 0.1  0.9  0. ] [ 0.11357646  0.03887189  0.03687454] [ 0.01135765  0.0349847   0.        ] 0.0463423493021\n",
      "[ 0.2  0.   0.8] [ 0.20935602  0.0347548   0.4943377 ] [ 0.0418712   0.          0.39547016] 0.437341361111\n",
      "[ 0.2  0.1  0.7] [ 0.20966542  0.03494235  0.43681248] [ 0.04193308  0.00349423  0.30576874] 0.351196057651\n",
      "[ 0.2  0.2  0.6] [ 0.20997483  0.0351299   0.37928727] [ 0.04199497  0.00702598  0.22757236] 0.276593306985\n",
      "[ 0.2  0.3  0.5] [ 0.21028423  0.03531745  0.32176206] [ 0.04205685  0.01059523  0.16088103] 0.213533109115\n",
      "[ 0.2  0.4  0.4] [ 0.21059364  0.035505    0.26423684] [ 0.04211873  0.014202    0.10569474] 0.162015464041\n",
      "[ 0.2  0.5  0.3] [ 0.21090304  0.03569255  0.20671163] [ 0.04218061  0.01784627  0.06201349] 0.122040371761\n",
      "[ 0.2  0.6  0.2] [ 0.21121245  0.0358801   0.14918641] [ 0.04224249  0.02152806  0.02983728] 0.0936078322777\n",
      "[ 0.2  0.7  0.1] [ 0.21152185  0.03606765  0.0916612 ] [ 0.04230437  0.02524735  0.00916612] 0.0767178455894\n",
      "[ 0.2  0.8  0. ] [ 0.21183126  0.0362552   0.03413599] [ 0.04236625  0.02900416  0.        ] 0.0713704116965\n",
      "[ 0.3  0.   0.7] [ 0.30792022  0.03232565  0.43407394] [ 0.09237607  0.          0.30385175] 0.396227822146\n",
      "[ 0.3  0.1  0.6] [ 0.30822963  0.03251321  0.37654872] [ 0.09246889  0.00325132  0.22592923] 0.321649442449\n",
      "[ 0.3  0.2  0.5] [ 0.30853903  0.03270076  0.31902351] [ 0.09256171  0.00654015  0.15951175] 0.258613615547\n",
      "[ 0.3  0.3  0.4] [ 0.30884844  0.03288831  0.26149829] [ 0.09265453  0.00986649  0.10459932] 0.20712034144\n",
      "[ 0.3  0.4  0.3] [ 0.30915785  0.03307586  0.20397308] [ 0.09274735  0.01323034  0.06119192] 0.167169620129\n",
      "[ 0.3  0.5  0.2] [ 0.30946725  0.03326341  0.14644787] [ 0.09284018  0.0166317   0.02928957] 0.138761451613\n",
      "[ 0.3  0.6  0.1] [ 0.30977666  0.03345096  0.08892265] [ 0.092933    0.02007057  0.00889227] 0.121895835893\n",
      "[ 0.3  0.7  0. ] [ 0.31008606  0.03363851  0.03139744] [ 0.09302582  0.02354695  0.        ] 0.116572772968\n",
      "[ 0.4  0.   0.6] [ 0.40648443  0.02989651  0.37381017] [ 0.16259377  0.          0.2242861 ] 0.386879876789\n",
      "[ 0.4  0.1  0.5] [ 0.40679384  0.03008406  0.31628496] [ 0.16271753  0.00300841  0.15814248] 0.323868420855\n",
      "[ 0.4  0.2  0.4] [ 0.40710324  0.03027161  0.25875975] [ 0.1628413   0.00605432  0.1035039 ] 0.272399517716\n",
      "[ 0.4  0.3  0.3] [ 0.40741265  0.03045916  0.20123453] [ 0.16296506  0.00913775  0.06037036] 0.232473167373\n",
      "[ 0.4  0.4  0.2] [ 0.40772205  0.03064671  0.14370932] [ 0.16308882  0.01225869  0.02874186] 0.204089369825\n",
      "[ 0.4  0.5  0.1] [ 0.40803146  0.03083426  0.08618411] [ 0.16321258  0.01541713  0.00861841] 0.187248125072\n",
      "[ 0.4  0.6  0. ] [ 0.40834086  0.03102181  0.02865889] [ 0.16333634  0.01861309  0.        ] 0.181949433115\n",
      "[ 0.5  0.   0.5] [ 0.50504864  0.02746737  0.31354641] [ 0.25252432  0.          0.15677321] 0.409297525039\n",
      "[ 0.5  0.1  0.4] [ 0.50535804  0.02765492  0.2560212 ] [ 0.25267902  0.00276549  0.10240848] 0.357852992868\n",
      "[ 0.5  0.2  0.3] [ 0.50566745  0.02784247  0.19849599] [ 0.25283372  0.00556849  0.0595488 ] 0.317951013493\n",
      "[ 0.5  0.3  0.2] [ 0.50597685  0.02803002  0.14097077] [ 0.25298843  0.00840901  0.02819415] 0.289591586913\n",
      "[ 0.5  0.4  0.1] [ 0.50628626  0.02821757  0.08344556] [ 0.25314313  0.01128703  0.00834456] 0.272774713128\n",
      "[ 0.5  0.5  0. ] [ 0.50659566  0.02840512  0.02592034] [ 0.25329783  0.01420256  0.        ] 0.267500392139\n",
      "[ 0.6  0.   0.4] [ 0.60361284  0.02503823  0.25328265] [ 0.36216771  0.          0.10131306] 0.463480766898\n",
      "[ 0.6  0.1  0.3] [ 0.60392225  0.02522578  0.19575744] [ 0.36235335  0.00252258  0.05872723] 0.42360315849\n",
      "[ 0.6  0.2  0.2] [ 0.60423165  0.02541333  0.13823222] [ 0.36253899  0.00508267  0.02764644] 0.395268102878\n",
      "[ 0.6  0.3  0.1] [ 0.60454106  0.02560088  0.08070701] [ 0.36272464  0.00768026  0.0080707 ] 0.378475600061\n",
      "[ 0.6  0.4  0. ] [ 0.60485046  0.02578843  0.0231818 ] [ 0.36291028  0.01031537  0.        ] 0.37322565004\n",
      "[ 0.7  0.   0.3] [ 0.70217705  0.02260908  0.19301889] [ 0.49152394  0.          0.05790567] 0.549429602364\n",
      "[ 0.7  0.1  0.2] [ 0.70248646  0.02279663  0.13549368] [ 0.49174052  0.00227966  0.02709874] 0.521118917719\n",
      "[ 0.7  0.2  0.1] [ 0.70279586  0.02298418  0.07796846] [ 0.4919571   0.00459684  0.00779685] 0.50435078587\n",
      "[ 0.7  0.3  0. ] [ 0.70310527  0.02317174  0.02044325] [ 0.49217369  0.00695152  0.        ] 0.499125206817\n",
      "[ 0.8  0.   0.2] [ 0.80074126  0.02017994  0.13275513] [ 0.64059301  0.          0.02655103] 0.667144031437\n",
      "[ 0.8  0.1  0.1] [ 0.80105066  0.02036749  0.07522991] [ 0.64084053  0.00203675  0.00752299] 0.650400270556\n",
      "[ 0.8  0.2  0. ] [ 0.80136007  0.02055504  0.0177047 ] [ 0.64108805  0.00411101  0.        ] 0.645199062471\n",
      "[ 0.9  0.   0.1] [ 0.89930546  0.0177508   0.07249137] [ 0.80937492  0.          0.00724914] 0.816624054119\n",
      "[ 0.9  0.1  0. ] [ 0.89961487  0.01793835  0.01496615] [ 0.80965338  0.00179383  0.        ] 0.811447217001\n",
      "[ 1.  0.  0.] [ 0.99786967  0.01532166  0.0122276 ] [ 0.99786967  0.          0.        ] 0.997869670408\n"
     ]
    }
   ],
   "source": [
    "for w1 in range(0,11):\n",
    "    for w2 in range(0,11):\n",
    "        for w3 in range(0,11):\n",
    "            if (w1+w2+w3==10):\n",
    "                w=np.array([w1/10, w2/10, w3/10])\n",
    "                mrc=w.dot(cov)\n",
    "                trc=calc_trc(w,cov)\n",
    "                print(w, mrc, trc, trc.sum())"
   ]
  },
  {
   "cell_type": "markdown",
   "metadata": {},
   "source": [
    "An Introduction to Risk Parity\n",
    "by Hossein Kazemi\n",
    "$$r_{p}= \\sum_{i=1}^{n} w_{i} \\cdot r_{i}$$\n",
    "$$\\sigma_{p}= \\sqrt {\\sum_{i=1}^{n}  \\sum_{j=1}^{n} w_{i} \\cdot w_{j} \\cdot \\sigma_{ij}}$$\n",
    "$$MC_{i}=w_{i} \\cdot \\frac{\\sum_{j=1}^{n} w_{j} \\cdot \\sigma_{ij}}{\\sigma_{p}}$$\n",
    "$$\\sigma_{p}=\\sum_{i=1}^{n} MC_{i}$$\n",
    "Risk Parity - minimum variance portfolio can be obtained by equalizing all the MCs."
   ]
  },
  {
   "cell_type": "code",
   "execution_count": 216,
   "metadata": {},
   "outputs": [],
   "source": [
    "def calc_mc(w,cov):\n",
    "    mc=np.zeros(len(cov))\n",
    "    for i in range(0,len(cov)):\n",
    "        for j in range(0,len(cov)):\n",
    "            mc[i]=mc[i]+w[i]*w[j]*cov[i][j]\n",
    "    mc=mc/mc.sum()\n",
    "    return mc"
   ]
  },
  {
   "cell_type": "code",
   "execution_count": 212,
   "metadata": {},
   "outputs": [
    {
     "name": "stdout",
     "output_type": "stream",
     "text": [
      "[ 0.02486936  0.0248692   0.02486943]\n",
      "0.0746079923552\n"
     ]
    }
   ],
   "source": [
    "w=np.array([0.1517575 ,  0.66886609,  0.17937641])\n",
    "#w=np.array([0.6 ,  0.2,  0.2])\n",
    "mc=calc_mc(w,cov)"
   ]
  },
  {
   "cell_type": "code",
   "execution_count": 213,
   "metadata": {},
   "outputs": [
    {
     "data": {
      "text/plain": [
       "array([ 33.33337854,  33.33316035,  33.33346111])"
      ]
     },
     "execution_count": 213,
     "metadata": {},
     "output_type": "execute_result"
    }
   ],
   "source": [
    "mc*100"
   ]
  },
  {
   "cell_type": "code",
   "execution_count": 233,
   "metadata": {},
   "outputs": [
    {
     "name": "stdout",
     "output_type": "stream",
     "text": [
      "[ 0.15  0.67  0.18] [ 0.32738196  0.33571861  0.33689943] 0.0306217129651 0.0742925460307\n"
     ]
    }
   ],
   "source": [
    "n = 100\n",
    "b = 1000000\n",
    "w0=np.zeros(len(cov))\n",
    "for w1 in range(0,n+1):\n",
    "    for w2 in range(0,n+1):\n",
    "        for w3 in range(0,n+1):\n",
    "            if (w1+w2+w3==n):\n",
    "                w=np.array([w1/n, w2/n, w3/n])\n",
    "                mc=calc_mc(w,cov)\n",
    "                m0=0.0\n",
    "                for mc1, mc2 in combinations(mc,2):\n",
    "                    m0=m0+abs(mc1-mc2)\n",
    "                if m0<b:\n",
    "                    w0=w\n",
    "                    b=m0\n",
    "rp=w0.dot(r.T)\n",
    "sp=w0.dot(cov)\n",
    "sp=sp.dot(w0.T)\n",
    "mc=calc_mc(w0,cov)\n",
    "print(w0, mc ,rp, sp)"
   ]
  },
  {
   "cell_type": "code",
   "execution_count": 234,
   "metadata": {},
   "outputs": [],
   "source": [
    "def get_parity_weight(cov, n):\n",
    "    b = 1000000\n",
    "    w0=np.zeros(len(cov))\n",
    "    for w1 in range(0,n+1):\n",
    "        for w2 in range(0,n+1):\n",
    "            for w3 in range(0,n+1):\n",
    "                if (w1+w2+w3==n):\n",
    "                    w=np.array([w1/n, w2/n, w3/n])\n",
    "                    mc=calc_mc(w,cov)\n",
    "                    m0=0.0\n",
    "                    for mc1, mc2 in combinations(mc,2):\n",
    "                        m0=m0+abs(mc1-mc2)\n",
    "                    if m0<b:\n",
    "                        w0=w\n",
    "                        b=m0\n",
    "    return w0"
   ]
  },
  {
   "cell_type": "code",
   "execution_count": 236,
   "metadata": {},
   "outputs": [
    {
     "name": "stdout",
     "output_type": "stream",
     "text": [
      "[ 0.152  0.669  0.179] [ 0.33442055  0.33341389  0.33216556] 0.0307751447351 0.0745931974053\n"
     ]
    }
   ],
   "source": [
    "w0=get_parity_weight(cov,100)\n",
    "rp=w0.dot(r.T)\n",
    "sp=w0.dot(cov)\n",
    "sp=sp.dot(w0.T)\n",
    "mc=calc_mc(w0,cov)\n",
    "print(w0, mc ,rp, sp)"
   ]
  },
  {
   "cell_type": "code",
   "execution_count": 179,
   "metadata": {},
   "outputs": [],
   "source": [
    "assets_risk_budget = [1 / wp.shape[1]] * wp.shape[1]\n",
    "init_weights = np.array([1 / wp.shape[1]] * wp.shape[1])"
   ]
  },
  {
   "cell_type": "code",
   "execution_count": 180,
   "metadata": {},
   "outputs": [
    {
     "data": {
      "text/plain": [
       "[0.3333333333333333, 0.3333333333333333, 0.3333333333333333]"
      ]
     },
     "execution_count": 180,
     "metadata": {},
     "output_type": "execute_result"
    }
   ],
   "source": [
    "assets_risk_budget"
   ]
  },
  {
   "cell_type": "code",
   "execution_count": 181,
   "metadata": {},
   "outputs": [],
   "source": [
    "from scipy.optimize import minimize\n",
    "TOLERANCE = 1e-10\n",
    "\n",
    "\n",
    "def _allocation_risk(weights, covariances):\n",
    "\n",
    "    # We calculate the risk of the weights distribution\n",
    "    portfolio_risk = np.sqrt((weights * covariances * weights.T))[0, 0]\n",
    "\n",
    "    # It returns the risk of the weights distribution\n",
    "    return portfolio_risk\n",
    "\n",
    "\n",
    "def _assets_risk_contribution_to_allocation_risk(weights, covariances):\n",
    "\n",
    "    # We calculate the risk of the weights distribution\n",
    "    portfolio_risk = _allocation_risk(weights, covariances)\n",
    "\n",
    "    # We calculate the contribution of each asset to the risk of the weights\n",
    "    # distribution\n",
    "    assets_risk_contribution = np.multiply(weights.T, covariances * weights.T) \\\n",
    "        / portfolio_risk\n",
    "\n",
    "    # It returns the contribution of each asset to the risk of the weights\n",
    "    # distribution\n",
    "    return assets_risk_contribution\n",
    "\n",
    "\n",
    "def _risk_budget_objective_error(weights, args):\n",
    "\n",
    "    # The covariance matrix occupies the first position in the variable\n",
    "    covariances = args[0]\n",
    "\n",
    "    # The desired contribution of each asset to the portfolio risk occupies the\n",
    "    # second position\n",
    "    assets_risk_budget = args[1]\n",
    "\n",
    "    # We convert the weights to a matrix\n",
    "    weights = np.matrix(weights)\n",
    "\n",
    "    # We calculate the risk of the weights distribution\n",
    "    portfolio_risk = _allocation_risk(weights, covariances)\n",
    "\n",
    "    # We calculate the contribution of each asset to the risk of the weights\n",
    "    # distribution\n",
    "    assets_risk_contribution = \\\n",
    "        _assets_risk_contribution_to_allocation_risk(weights, covariances)\n",
    "\n",
    "    # We calculate the desired contribution of each asset to the risk of the\n",
    "    # weights distribution\n",
    "    assets_risk_target = \\\n",
    "        np.asmatrix(np.multiply(portfolio_risk, assets_risk_budget))\n",
    "\n",
    "    # Error between the desired contribution and the calculated contribution of\n",
    "    # each asset\n",
    "    error = \\\n",
    "        sum(np.square(assets_risk_contribution - assets_risk_target.T))[0, 0]\n",
    "\n",
    "    # It returns the calculated error\n",
    "    return error\n",
    "\n",
    "\n",
    "def _get_risk_parity_weights(covariances, assets_risk_budget, initial_weights):\n",
    "\n",
    "    # Restrictions to consider in the optimisation: only long positions whose\n",
    "    # sum equals 100%\n",
    "    constraints = ({'type': 'eq', 'fun': lambda x: np.sum(x) - 1.0},\n",
    "                   {'type': 'ineq', 'fun': lambda x: x})\n",
    "\n",
    "    # Optimisation process in scipy\n",
    "    optimize_result = minimize(fun=_risk_budget_objective_error,\n",
    "                               x0=initial_weights,\n",
    "                               args=[covariances, assets_risk_budget],\n",
    "                               method='SLSQP',\n",
    "                               constraints=constraints,\n",
    "                               tol=TOLERANCE,\n",
    "                               options={'disp': False})\n",
    "\n",
    "    # Recover the weights from the optimised object\n",
    "    weights = optimize_result.x\n",
    "\n",
    "    # It returns the optimised weights\n",
    "    return weights"
   ]
  },
  {
   "cell_type": "code",
   "execution_count": 182,
   "metadata": {},
   "outputs": [],
   "source": [
    "covariances = wp.cov().values\n",
    "weights = _get_risk_parity_weights(covariances, assets_risk_budget, init_weights)"
   ]
  },
  {
   "cell_type": "code",
   "execution_count": 183,
   "metadata": {},
   "outputs": [
    {
     "data": {
      "text/plain": [
       "array([ 0.1517575 ,  0.66886609,  0.17937641])"
      ]
     },
     "execution_count": 183,
     "metadata": {},
     "output_type": "execute_result"
    }
   ],
   "source": [
    "weights"
   ]
  },
  {
   "cell_type": "code",
   "execution_count": 184,
   "metadata": {},
   "outputs": [],
   "source": [
    "portfolio_risk = np.sqrt((weights * covariances * weights.T))[0,0]"
   ]
  },
  {
   "cell_type": "code",
   "execution_count": 185,
   "metadata": {},
   "outputs": [
    {
     "data": {
      "text/plain": [
       "0.15159576453699597"
      ]
     },
     "execution_count": 185,
     "metadata": {},
     "output_type": "execute_result"
    }
   ],
   "source": [
    "portfolio_risk"
   ]
  },
  {
   "cell_type": "code",
   "execution_count": 186,
   "metadata": {},
   "outputs": [],
   "source": [
    "assets_risk_contribution = np.multiply(weights.T, covariances * weights.T) / portfolio_risk"
   ]
  },
  {
   "cell_type": "code",
   "execution_count": 187,
   "metadata": {},
   "outputs": [
    {
     "data": {
      "text/plain": [
       "array([[ 0.15159576,  0.04521651,  0.00259528],\n",
       "       [ 0.00232766,  0.12243904,  0.0084078 ],\n",
       "       [ 0.00185761,  0.11690415,  0.13050391]])"
      ]
     },
     "execution_count": 187,
     "metadata": {},
     "output_type": "execute_result"
    }
   ],
   "source": [
    "assets_risk_contribution"
   ]
  },
  {
   "cell_type": "code",
   "execution_count": 245,
   "metadata": {},
   "outputs": [
    {
     "data": {
      "text/plain": [
       "ETF300    0.115866\n",
       "ETF500   -0.003308\n",
       "DEBT     -0.001739\n",
       "GOLD      0.080039\n",
       "dtype: float64"
      ]
     },
     "execution_count": 245,
     "metadata": {},
     "output_type": "execute_result"
    }
   ],
   "source": [
    "wp.mean()"
   ]
  },
  {
   "cell_type": "code",
   "execution_count": 244,
   "metadata": {},
   "outputs": [
    {
     "data": {
      "text/plain": [
       "ETF300    0.013162\n",
       "ETF500   -0.000291\n",
       "DEBT     -0.001096\n",
       "GOLD      0.013442\n",
       "dtype: float64"
      ]
     },
     "execution_count": 244,
     "metadata": {},
     "output_type": "execute_result"
    }
   ],
   "source": [
    "wp.mean()*weights"
   ]
  },
  {
   "cell_type": "code",
   "execution_count": 247,
   "metadata": {},
   "outputs": [
    {
     "data": {
      "text/plain": [
       "0.02521594829896193"
      ]
     },
     "execution_count": 247,
     "metadata": {},
     "output_type": "execute_result"
    }
   ],
   "source": [
    "sum(wp.mean()*weights)"
   ]
  },
  {
   "cell_type": "code",
   "execution_count": 223,
   "metadata": {},
   "outputs": [],
   "source": [
    "cov = wp.cov().values\n",
    "portfolio_risk = np.sqrt((init_weights * wp.cov().values * init_weights.T))[0, 0]"
   ]
  },
  {
   "cell_type": "code",
   "execution_count": 222,
   "metadata": {},
   "outputs": [
    {
     "data": {
      "text/plain": [
       "0.2497335668277374"
      ]
     },
     "execution_count": 222,
     "metadata": {},
     "output_type": "execute_result"
    }
   ],
   "source": [
    "portfolio_risk"
   ]
  },
  {
   "cell_type": "code",
   "execution_count": 228,
   "metadata": {},
   "outputs": [],
   "source": [
    "assets_risk_contribution = np.multiply(init_weights.T, cov * init_weights.T) / portfolio_risk"
   ]
  },
  {
   "cell_type": "code",
   "execution_count": 229,
   "metadata": {},
   "outputs": [
    {
     "data": {
      "text/plain": [
       "array([[ 0.24973357,  0.22311711,  0.0038345 ,  0.00306016],\n",
       "       [ 0.22311711,  0.37031452,  0.00610896,  0.02305522],\n",
       "       [ 0.0038345 ,  0.00610896,  0.01038321,  0.00991384],\n",
       "       [ 0.00306016,  0.02305522,  0.00991384,  0.1538803 ]])"
      ]
     },
     "execution_count": 229,
     "metadata": {},
     "output_type": "execute_result"
    }
   ],
   "source": [
    "assets_risk_contribution"
   ]
  },
  {
   "cell_type": "code",
   "execution_count": 226,
   "metadata": {},
   "outputs": [
    {
     "data": {
      "text/plain": [
       "array([[ 0.24946742,  0.22287932,  0.00383041,  0.0030569 ],\n",
       "       [ 0.22287932,  0.36991986,  0.00610245,  0.02303065],\n",
       "       [ 0.00383041,  0.00610245,  0.01037215,  0.00990327],\n",
       "       [ 0.0030569 ,  0.02303065,  0.00990327,  0.1537163 ]])"
      ]
     },
     "execution_count": 226,
     "metadata": {},
     "output_type": "execute_result"
    }
   ],
   "source": [
    "cov * init_weights.T"
   ]
  },
  {
   "cell_type": "code",
   "execution_count": 227,
   "metadata": {},
   "outputs": [
    {
     "data": {
      "text/plain": [
       "array([[ 0.06236685,  0.05571983,  0.0009576 ,  0.00076423],\n",
       "       [ 0.05571983,  0.09247997,  0.00152561,  0.00575766],\n",
       "       [ 0.0009576 ,  0.00152561,  0.00259304,  0.00247582],\n",
       "       [ 0.00076423,  0.00575766,  0.00247582,  0.03842908]])"
      ]
     },
     "execution_count": 227,
     "metadata": {},
     "output_type": "execute_result"
    }
   ],
   "source": [
    "np.multiply(init_weights.T, cov * init_weights.T)"
   ]
  },
  {
   "cell_type": "code",
   "execution_count": null,
   "metadata": {},
   "outputs": [],
   "source": []
  }
 ],
 "metadata": {
  "kernelspec": {
   "display_name": "Python 3",
   "language": "python",
   "name": "python3"
  },
  "language_info": {
   "codemirror_mode": {
    "name": "ipython",
    "version": 3
   },
   "file_extension": ".py",
   "mimetype": "text/x-python",
   "name": "python",
   "nbconvert_exporter": "python",
   "pygments_lexer": "ipython3",
   "version": "3.6.8"
  }
 },
 "nbformat": 4,
 "nbformat_minor": 2
}
