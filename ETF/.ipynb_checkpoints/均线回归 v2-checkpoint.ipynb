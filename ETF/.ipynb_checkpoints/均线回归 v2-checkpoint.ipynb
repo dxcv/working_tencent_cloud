{
 "cells": [
  {
   "cell_type": "code",
   "execution_count": 1,
   "metadata": {},
   "outputs": [],
   "source": [
    "import tushare as ts\n",
    "token = '6feca07b866ea55bd6024aa5a8891d7bc11afd829d1386c8a2fc8d89'\n",
    "pro = ts.pro_api(token)"
   ]
  },
  {
   "cell_type": "code",
   "execution_count": 2,
   "metadata": {},
   "outputs": [],
   "source": [
    "%matplotlib inline\n",
    "import matplotlib.pyplot as plt\n",
    "import matplotlib.gridspec as gridspec\n",
    "import datetime\n",
    "import pandas as pd\n",
    "import numpy as np\n",
    "import time\n",
    "import requests\n",
    "from IPython.core.display import HTML"
   ]
  },
  {
   "cell_type": "code",
   "execution_count": 7,
   "metadata": {},
   "outputs": [],
   "source": [
    "import statsmodels.api as sm\n",
    "import statsmodels.formula.api as smf"
   ]
  },
  {
   "cell_type": "code",
   "execution_count": 3,
   "metadata": {},
   "outputs": [],
   "source": [
    "# choose fund\n",
    "start_date_str = '20160101'\n",
    "end_date_str = '20171231'"
   ]
  },
  {
   "cell_type": "code",
   "execution_count": 4,
   "metadata": {},
   "outputs": [],
   "source": [
    "def get_price(code_name, code, start_date_str, end_date_str):\n",
    "    p_t = ['trade_date', 'close'] #['trade_date', 'open', 'high', 'low', 'close', 'vol', 'pct_chg']\n",
    "    \n",
    "    #get data\n",
    "    price = pro.fund_daily(ts_code=code, start_date=start_date_str, end_date=end_date_str)\n",
    "\n",
    "    # set date index and resort data\n",
    "    p = price[p_t].sort_values(by='trade_date')\n",
    "    p['trade_date'] = pd.to_datetime(p['trade_date'])\n",
    "    p.set_index(\"trade_date\", inplace=True)\n",
    "    \n",
    "    p = p.rename({'close':code_name}, axis=1)\n",
    "    \n",
    "    return p"
   ]
  },
  {
   "cell_type": "code",
   "execution_count": 5,
   "metadata": {},
   "outputs": [],
   "source": [
    "# get data\n",
    "ticks = {\n",
    "    'ETF300':'510310.SH'\n",
    "}\n",
    "c = 'ETF300'\n",
    "p = get_price(c,ticks[c],start_date_str, end_date_str)"
   ]
  },
  {
   "cell_type": "code",
   "execution_count": 6,
   "metadata": {},
   "outputs": [],
   "source": [
    "# calc ma\n",
    "mp = 30\n",
    "p['ma'] = p[c].rolling(mp,center=False,min_periods=1).mean()\n",
    "# calc diff\n",
    "p['diff'] = p[c]/p['ma']-1\n",
    "\n",
    "# return\n",
    "p['r']=p[c].pct_change()\n",
    "\n",
    "# slope\n",
    "p['d']=p['diff'].pct_change()\n",
    "\n",
    "p = p.drop(p.index[[0]])"
   ]
  },
  {
   "cell_type": "markdown",
   "metadata": {},
   "source": [
    " Four scenarios: \n",
    "\n",
    "1) low R-square and low p-value (p-value <= 0.05)\n",
    "\n",
    "2) low R-square and high p-value (p-value > 0.05)\n",
    "\n",
    "3) high R-square and low p-value\n",
    "\n",
    "4) high R-square and high p-value\n",
    "\n",
    "Interpretation:\n",
    "\n",
    "1) means that your model doesn't explain much of variation of the data but it is significant (better than not having a model)\n",
    "\n",
    "2) means that your model doesn't explain much of variation of the data and it is not significant (worst scenario)\n",
    "\n",
    "3) means your model explains a lot of variation within the data and is significant (best scenario)\n",
    "\n",
    "4) means that your model explains a lot of variation within the data but is not significant (model is worthless)"
   ]
  },
  {
   "cell_type": "markdown",
   "metadata": {},
   "source": [
    "### 以价格与均线的距离为x，与回报r做线性回归"
   ]
  },
  {
   "cell_type": "code",
   "execution_count": 16,
   "metadata": {},
   "outputs": [],
   "source": [
    "x = p['diff'].values\n",
    "y = p['r'].values"
   ]
  },
  {
   "cell_type": "code",
   "execution_count": 17,
   "metadata": {},
   "outputs": [
    {
     "data": {
      "text/html": [
       "<table class=\"simpletable\">\n",
       "<caption>OLS Regression Results</caption>\n",
       "<tr>\n",
       "  <th>Dep. Variable:</th>            <td>y</td>        <th>  R-squared:         </th> <td>   0.104</td>\n",
       "</tr>\n",
       "<tr>\n",
       "  <th>Model:</th>                   <td>OLS</td>       <th>  Adj. R-squared:    </th> <td>   0.102</td>\n",
       "</tr>\n",
       "<tr>\n",
       "  <th>Method:</th>             <td>Least Squares</td>  <th>  F-statistic:       </th> <td>   56.44</td>\n",
       "</tr>\n",
       "<tr>\n",
       "  <th>Date:</th>             <td>Sat, 09 Mar 2019</td> <th>  Prob (F-statistic):</th> <td>2.80e-13</td>\n",
       "</tr>\n",
       "<tr>\n",
       "  <th>Time:</th>                 <td>15:20:57</td>     <th>  Log-Likelihood:    </th> <td> -656.37</td>\n",
       "</tr>\n",
       "<tr>\n",
       "  <th>No. Observations:</th>      <td>   487</td>      <th>  AIC:               </th> <td>   1315.</td>\n",
       "</tr>\n",
       "<tr>\n",
       "  <th>Df Residuals:</th>          <td>   486</td>      <th>  BIC:               </th> <td>   1319.</td>\n",
       "</tr>\n",
       "<tr>\n",
       "  <th>Df Model:</th>              <td>     1</td>      <th>                     </th>     <td> </td>   \n",
       "</tr>\n",
       "<tr>\n",
       "  <th>Covariance Type:</th>      <td>nonrobust</td>    <th>                     </th>     <td> </td>   \n",
       "</tr>\n",
       "</table>\n",
       "<table class=\"simpletable\">\n",
       "<tr>\n",
       "   <td></td>     <th>coef</th>     <th>std err</th>      <th>t</th>      <th>P>|t|</th>  <th>[0.025</th>    <th>0.975]</th>  \n",
       "</tr>\n",
       "<tr>\n",
       "  <th>x1</th> <td>    0.1219</td> <td>    0.016</td> <td>    7.513</td> <td> 0.000</td> <td>    0.090</td> <td>    0.154</td>\n",
       "</tr>\n",
       "</table>\n",
       "<table class=\"simpletable\">\n",
       "<tr>\n",
       "  <th>Omnibus:</th>       <td>74.352</td> <th>  Durbin-Watson:     </th> <td>   2.215</td> \n",
       "</tr>\n",
       "<tr>\n",
       "  <th>Prob(Omnibus):</th> <td> 0.000</td> <th>  Jarque-Bera (JB):  </th> <td> 727.901</td> \n",
       "</tr>\n",
       "<tr>\n",
       "  <th>Skew:</th>          <td>-0.233</td> <th>  Prob(JB):          </th> <td>8.68e-159</td>\n",
       "</tr>\n",
       "<tr>\n",
       "  <th>Kurtosis:</th>      <td> 8.971</td> <th>  Cond. No.          </th> <td>    1.00</td> \n",
       "</tr>\n",
       "</table><br/><br/>Warnings:<br/>[1] Standard Errors assume that the covariance matrix of the errors is correctly specified."
      ],
      "text/plain": [
       "<class 'statsmodels.iolib.summary.Summary'>\n",
       "\"\"\"\n",
       "                            OLS Regression Results                            \n",
       "==============================================================================\n",
       "Dep. Variable:                      y   R-squared:                       0.104\n",
       "Model:                            OLS   Adj. R-squared:                  0.102\n",
       "Method:                 Least Squares   F-statistic:                     56.44\n",
       "Date:                Sat, 09 Mar 2019   Prob (F-statistic):           2.80e-13\n",
       "Time:                        15:20:57   Log-Likelihood:                -656.37\n",
       "No. Observations:                 487   AIC:                             1315.\n",
       "Df Residuals:                     486   BIC:                             1319.\n",
       "Df Model:                           1                                         \n",
       "Covariance Type:            nonrobust                                         \n",
       "==============================================================================\n",
       "                 coef    std err          t      P>|t|      [0.025      0.975]\n",
       "------------------------------------------------------------------------------\n",
       "x1             0.1219      0.016      7.513      0.000       0.090       0.154\n",
       "==============================================================================\n",
       "Omnibus:                       74.352   Durbin-Watson:                   2.215\n",
       "Prob(Omnibus):                  0.000   Jarque-Bera (JB):              727.901\n",
       "Skew:                          -0.233   Prob(JB):                    8.68e-159\n",
       "Kurtosis:                       8.971   Cond. No.                         1.00\n",
       "==============================================================================\n",
       "\n",
       "Warnings:\n",
       "[1] Standard Errors assume that the covariance matrix of the errors is correctly specified.\n",
       "\"\"\""
      ]
     },
     "metadata": {},
     "output_type": "display_data"
    },
    {
     "data": {
      "image/png": "[encoded data removed]",
      "text/plain": [
       "<Figure size 432x288 with 1 Axes>"
      ]
     },
     "metadata": {
      "needs_background": "light"
     },
     "output_type": "display_data"
    }
   ],
   "source": [
    "x=x\n",
    "y=y\n",
    "m,b = np.polyfit(x, y, 1) \n",
    "plt.plot(x, y, 'yo', x, m*x+b, '--k') \n",
    "#x = sm.add_constant((x*100), prepend=True)\n",
    "x=x*100\n",
    "y=y*100\n",
    "results = smf.OLS(y,x).fit()\n",
    "display(results.summary())"
   ]
  },
  {
   "cell_type": "markdown",
   "metadata": {},
   "source": [
    "y=0.1219*x\n",
    "\n",
    "x 是 价格与均线的距离，价格越小于均线，价格越可能下跌，同样，价格越高于均线，价格越可能上涨。\n",
    "\n",
    "R2只有10.4%，说明距离对价格的线性关系并不强。\n",
    "\n",
    "另外，这个模型没有考虑距离的斜率。当距离为负值时，斜率越大下跌可能性越大，斜率变小下跌可能性减小；当距离为正值时，斜率越大上涨可能性越大，斜率变小上涨可能性减小。"
   ]
  },
  {
   "cell_type": "markdown",
   "metadata": {},
   "source": [
    "### 考虑距离的斜率，按斜率分类，再对回报r及距离做线性回归\n",
    "\n",
    "距离变化为负值分为一类，变化为正值分为一类"
   ]
  },
  {
   "cell_type": "code",
   "execution_count": 20,
   "metadata": {},
   "outputs": [],
   "source": [
    "p1=p[p['d']<0]\n",
    "p2=p[p['d']>=0]"
   ]
  },
  {
   "cell_type": "code",
   "execution_count": 21,
   "metadata": {},
   "outputs": [],
   "source": [
    "x1 = p1['diff'].values\n",
    "y1 = p1['r'].values\n",
    "x2 = p2['diff'].values\n",
    "y2 = p2['r'].values"
   ]
  },
  {
   "cell_type": "code",
   "execution_count": 22,
   "metadata": {},
   "outputs": [
    {
     "data": {
      "text/html": [
       "<table class=\"simpletable\">\n",
       "<caption>OLS Regression Results</caption>\n",
       "<tr>\n",
       "  <th>Dep. Variable:</th>            <td>y</td>        <th>  R-squared:         </th> <td>   0.091</td>\n",
       "</tr>\n",
       "<tr>\n",
       "  <th>Model:</th>                   <td>OLS</td>       <th>  Adj. R-squared:    </th> <td>   0.087</td>\n",
       "</tr>\n",
       "<tr>\n",
       "  <th>Method:</th>             <td>Least Squares</td>  <th>  F-statistic:       </th> <td>   26.51</td>\n",
       "</tr>\n",
       "<tr>\n",
       "  <th>Date:</th>             <td>Sat, 09 Mar 2019</td> <th>  Prob (F-statistic):</th> <td>5.13e-07</td>\n",
       "</tr>\n",
       "<tr>\n",
       "  <th>Time:</th>                 <td>15:23:39</td>     <th>  Log-Likelihood:    </th> <td> -342.01</td>\n",
       "</tr>\n",
       "<tr>\n",
       "  <th>No. Observations:</th>      <td>   266</td>      <th>  AIC:               </th> <td>   686.0</td>\n",
       "</tr>\n",
       "<tr>\n",
       "  <th>Df Residuals:</th>          <td>   265</td>      <th>  BIC:               </th> <td>   689.6</td>\n",
       "</tr>\n",
       "<tr>\n",
       "  <th>Df Model:</th>              <td>     1</td>      <th>                     </th>     <td> </td>   \n",
       "</tr>\n",
       "<tr>\n",
       "  <th>Covariance Type:</th>      <td>nonrobust</td>    <th>                     </th>     <td> </td>   \n",
       "</tr>\n",
       "</table>\n",
       "<table class=\"simpletable\">\n",
       "<tr>\n",
       "   <td></td>     <th>coef</th>     <th>std err</th>      <th>t</th>      <th>P>|t|</th>  <th>[0.025</th>    <th>0.975]</th>  \n",
       "</tr>\n",
       "<tr>\n",
       "  <th>x1</th> <td>   -0.1213</td> <td>    0.024</td> <td>   -5.148</td> <td> 0.000</td> <td>   -0.168</td> <td>   -0.075</td>\n",
       "</tr>\n",
       "</table>\n",
       "<table class=\"simpletable\">\n",
       "<tr>\n",
       "  <th>Omnibus:</th>       <td>85.462</td> <th>  Durbin-Watson:     </th> <td>   1.883</td> \n",
       "</tr>\n",
       "<tr>\n",
       "  <th>Prob(Omnibus):</th> <td> 0.000</td> <th>  Jarque-Bera (JB):  </th> <td>1061.326</td> \n",
       "</tr>\n",
       "<tr>\n",
       "  <th>Skew:</th>          <td>-0.883</td> <th>  Prob(JB):          </th> <td>3.44e-231</td>\n",
       "</tr>\n",
       "<tr>\n",
       "  <th>Kurtosis:</th>      <td>12.625</td> <th>  Cond. No.          </th> <td>    1.00</td> \n",
       "</tr>\n",
       "</table><br/><br/>Warnings:<br/>[1] Standard Errors assume that the covariance matrix of the errors is correctly specified."
      ],
      "text/plain": [
       "<class 'statsmodels.iolib.summary.Summary'>\n",
       "\"\"\"\n",
       "                            OLS Regression Results                            \n",
       "==============================================================================\n",
       "Dep. Variable:                      y   R-squared:                       0.091\n",
       "Model:                            OLS   Adj. R-squared:                  0.087\n",
       "Method:                 Least Squares   F-statistic:                     26.51\n",
       "Date:                Sat, 09 Mar 2019   Prob (F-statistic):           5.13e-07\n",
       "Time:                        15:23:39   Log-Likelihood:                -342.01\n",
       "No. Observations:                 266   AIC:                             686.0\n",
       "Df Residuals:                     265   BIC:                             689.6\n",
       "Df Model:                           1                                         \n",
       "Covariance Type:            nonrobust                                         \n",
       "==============================================================================\n",
       "                 coef    std err          t      P>|t|      [0.025      0.975]\n",
       "------------------------------------------------------------------------------\n",
       "x1            -0.1213      0.024     -5.148      0.000      -0.168      -0.075\n",
       "==============================================================================\n",
       "Omnibus:                       85.462   Durbin-Watson:                   1.883\n",
       "Prob(Omnibus):                  0.000   Jarque-Bera (JB):             1061.326\n",
       "Skew:                          -0.883   Prob(JB):                    3.44e-231\n",
       "Kurtosis:                      12.625   Cond. No.                         1.00\n",
       "==============================================================================\n",
       "\n",
       "Warnings:\n",
       "[1] Standard Errors assume that the covariance matrix of the errors is correctly specified.\n",
       "\"\"\""
      ]
     },
     "metadata": {},
     "output_type": "display_data"
    },
    {
     "data": {
      "image/png": "[encoded data removed]",
      "text/plain": [
       "<Figure size 432x288 with 1 Axes>"
      ]
     },
     "metadata": {
      "needs_background": "light"
     },
     "output_type": "display_data"
    }
   ],
   "source": [
    "x=x1\n",
    "y=y1\n",
    "m,b = np.polyfit(x, y, 1) \n",
    "plt.plot(x, y, 'yo', x, m*x+b, '--k') \n",
    "#x = sm.add_constant((x1*100), prepend=True)\n",
    "x=x1*100\n",
    "y=y1*100\n",
    "results = smf.OLS(y,x).fit()\n",
    "display(results.summary())"
   ]
  },
  {
   "cell_type": "markdown",
   "metadata": {},
   "source": [
    "y = -0.1213*x\n",
    "\n",
    "这个模型考虑了斜率，价格距离均线的斜率为负值（由+转-，及继续为-），即”从最正距离转为最负距离“，做了r与距离的线性回归。\n",
    "\n",
    "R2只有9.1%，说明”从最正距离转为最负距离“这段区间，距离对价格的线性关系并不强。"
   ]
  },
  {
   "cell_type": "code",
   "execution_count": 23,
   "metadata": {},
   "outputs": [
    {
     "data": {
      "text/html": [
       "<table class=\"simpletable\">\n",
       "<caption>OLS Regression Results</caption>\n",
       "<tr>\n",
       "  <th>Dep. Variable:</th>            <td>y</td>        <th>  R-squared:         </th> <td>   0.687</td>\n",
       "</tr>\n",
       "<tr>\n",
       "  <th>Model:</th>                   <td>OLS</td>       <th>  Adj. R-squared:    </th> <td>   0.685</td>\n",
       "</tr>\n",
       "<tr>\n",
       "  <th>Method:</th>             <td>Least Squares</td>  <th>  F-statistic:       </th> <td>   479.8</td>\n",
       "</tr>\n",
       "<tr>\n",
       "  <th>Date:</th>             <td>Sat, 09 Mar 2019</td> <th>  Prob (F-statistic):</th> <td>4.32e-57</td>\n",
       "</tr>\n",
       "<tr>\n",
       "  <th>Time:</th>                 <td>15:26:42</td>     <th>  Log-Likelihood:    </th> <td> -197.39</td>\n",
       "</tr>\n",
       "<tr>\n",
       "  <th>No. Observations:</th>      <td>   220</td>      <th>  AIC:               </th> <td>   396.8</td>\n",
       "</tr>\n",
       "<tr>\n",
       "  <th>Df Residuals:</th>          <td>   219</td>      <th>  BIC:               </th> <td>   400.2</td>\n",
       "</tr>\n",
       "<tr>\n",
       "  <th>Df Model:</th>              <td>     1</td>      <th>                     </th>     <td> </td>   \n",
       "</tr>\n",
       "<tr>\n",
       "  <th>Covariance Type:</th>      <td>nonrobust</td>    <th>                     </th>     <td> </td>   \n",
       "</tr>\n",
       "</table>\n",
       "<table class=\"simpletable\">\n",
       "<tr>\n",
       "   <td></td>     <th>coef</th>     <th>std err</th>      <th>t</th>      <th>P>|t|</th>  <th>[0.025</th>    <th>0.975]</th>  \n",
       "</tr>\n",
       "<tr>\n",
       "  <th>x1</th> <td>    0.2975</td> <td>    0.014</td> <td>   21.904</td> <td> 0.000</td> <td>    0.271</td> <td>    0.324</td>\n",
       "</tr>\n",
       "</table>\n",
       "<table class=\"simpletable\">\n",
       "<tr>\n",
       "  <th>Omnibus:</th>       <td>95.902</td> <th>  Durbin-Watson:     </th> <td>   1.860</td> \n",
       "</tr>\n",
       "<tr>\n",
       "  <th>Prob(Omnibus):</th> <td> 0.000</td> <th>  Jarque-Bera (JB):  </th> <td> 855.462</td> \n",
       "</tr>\n",
       "<tr>\n",
       "  <th>Skew:</th>          <td>-1.430</td> <th>  Prob(JB):          </th> <td>1.73e-186</td>\n",
       "</tr>\n",
       "<tr>\n",
       "  <th>Kurtosis:</th>      <td>12.227</td> <th>  Cond. No.          </th> <td>    1.00</td> \n",
       "</tr>\n",
       "</table><br/><br/>Warnings:<br/>[1] Standard Errors assume that the covariance matrix of the errors is correctly specified."
      ],
      "text/plain": [
       "<class 'statsmodels.iolib.summary.Summary'>\n",
       "\"\"\"\n",
       "                            OLS Regression Results                            \n",
       "==============================================================================\n",
       "Dep. Variable:                      y   R-squared:                       0.687\n",
       "Model:                            OLS   Adj. R-squared:                  0.685\n",
       "Method:                 Least Squares   F-statistic:                     479.8\n",
       "Date:                Sat, 09 Mar 2019   Prob (F-statistic):           4.32e-57\n",
       "Time:                        15:26:42   Log-Likelihood:                -197.39\n",
       "No. Observations:                 220   AIC:                             396.8\n",
       "Df Residuals:                     219   BIC:                             400.2\n",
       "Df Model:                           1                                         \n",
       "Covariance Type:            nonrobust                                         \n",
       "==============================================================================\n",
       "                 coef    std err          t      P>|t|      [0.025      0.975]\n",
       "------------------------------------------------------------------------------\n",
       "x1             0.2975      0.014     21.904      0.000       0.271       0.324\n",
       "==============================================================================\n",
       "Omnibus:                       95.902   Durbin-Watson:                   1.860\n",
       "Prob(Omnibus):                  0.000   Jarque-Bera (JB):              855.462\n",
       "Skew:                          -1.430   Prob(JB):                    1.73e-186\n",
       "Kurtosis:                      12.227   Cond. No.                         1.00\n",
       "==============================================================================\n",
       "\n",
       "Warnings:\n",
       "[1] Standard Errors assume that the covariance matrix of the errors is correctly specified.\n",
       "\"\"\""
      ]
     },
     "metadata": {},
     "output_type": "display_data"
    },
    {
     "data": {
      "image/png": "[encoded data removed]",
      "text/plain": [
       "<Figure size 432x288 with 1 Axes>"
      ]
     },
     "metadata": {
      "needs_background": "light"
     },
     "output_type": "display_data"
    }
   ],
   "source": [
    "x=x2\n",
    "y=y2\n",
    "m,b = np.polyfit(x, y, 1) \n",
    "plt.plot(x, y, 'yo', x, m*x+b, '--k') \n",
    "#x = sm.add_constant((x2*100), prepend=True)\n",
    "x=x2*100\n",
    "y=y2*100\n",
    "results = smf.OLS(y,x).fit()\n",
    "display(results.summary())"
   ]
  },
  {
   "cell_type": "markdown",
   "metadata": {},
   "source": [
    "y = 0.2975*x\n",
    "\n",
    "这个模型考虑了斜率，价格距离均线的斜率为正（由-转+，及继续为+），即“从最负距离转为最正距离”，做了r与距离的线性回归。\n",
    "\n",
    "R2只有68.7%，说明在“从最负距离转为最正距离”这段区间，距离对价格的线性关系并比较显著。"
   ]
  },
  {
   "cell_type": "markdown",
   "metadata": {},
   "source": [
    "### 进一步细分\n",
    "\n",
    "正距离按正负斜率分、负距离按正负斜率分，共分为四组"
   ]
  },
  {
   "cell_type": "code",
   "execution_count": 24,
   "metadata": {},
   "outputs": [],
   "source": [
    "p1=p[p['diff']<0]\n",
    "p2=p[p['diff']>=0]"
   ]
  },
  {
   "cell_type": "code",
   "execution_count": 25,
   "metadata": {},
   "outputs": [],
   "source": [
    "p11=p1[p1['d']<0]\n",
    "p12=p1[p1['d']>=0]\n",
    "p21=p2[p2['d']<0]\n",
    "p22=p2[p2['d']>=0]"
   ]
  },
  {
   "cell_type": "markdown",
   "metadata": {},
   "source": [
    "距离负、斜率负：从相交点向下，线性回归不显著"
   ]
  },
  {
   "cell_type": "code",
   "execution_count": 28,
   "metadata": {},
   "outputs": [
    {
     "data": {
      "text/html": [
       "<table class=\"simpletable\">\n",
       "<caption>OLS Regression Results</caption>\n",
       "<tr>\n",
       "  <th>Dep. Variable:</th>            <td>y</td>        <th>  R-squared:         </th> <td>   0.058</td>\n",
       "</tr>\n",
       "<tr>\n",
       "  <th>Model:</th>                   <td>OLS</td>       <th>  Adj. R-squared:    </th> <td>   0.048</td>\n",
       "</tr>\n",
       "<tr>\n",
       "  <th>Method:</th>             <td>Least Squares</td>  <th>  F-statistic:       </th> <td>   5.579</td>\n",
       "</tr>\n",
       "<tr>\n",
       "  <th>Date:</th>             <td>Sat, 09 Mar 2019</td> <th>  Prob (F-statistic):</th>  <td>0.0203</td> \n",
       "</tr>\n",
       "<tr>\n",
       "  <th>Time:</th>                 <td>15:30:19</td>     <th>  Log-Likelihood:    </th> <td> -144.57</td>\n",
       "</tr>\n",
       "<tr>\n",
       "  <th>No. Observations:</th>      <td>    91</td>      <th>  AIC:               </th> <td>   291.1</td>\n",
       "</tr>\n",
       "<tr>\n",
       "  <th>Df Residuals:</th>          <td>    90</td>      <th>  BIC:               </th> <td>   293.6</td>\n",
       "</tr>\n",
       "<tr>\n",
       "  <th>Df Model:</th>              <td>     1</td>      <th>                     </th>     <td> </td>   \n",
       "</tr>\n",
       "<tr>\n",
       "  <th>Covariance Type:</th>      <td>nonrobust</td>    <th>                     </th>     <td> </td>   \n",
       "</tr>\n",
       "</table>\n",
       "<table class=\"simpletable\">\n",
       "<tr>\n",
       "   <td></td>     <th>coef</th>     <th>std err</th>      <th>t</th>      <th>P>|t|</th>  <th>[0.025</th>    <th>0.975]</th>  \n",
       "</tr>\n",
       "<tr>\n",
       "  <th>x1</th> <td>   -0.1206</td> <td>    0.051</td> <td>   -2.362</td> <td> 0.020</td> <td>   -0.222</td> <td>   -0.019</td>\n",
       "</tr>\n",
       "</table>\n",
       "<table class=\"simpletable\">\n",
       "<tr>\n",
       "  <th>Omnibus:</th>       <td>43.209</td> <th>  Durbin-Watson:     </th> <td>   1.862</td>\n",
       "</tr>\n",
       "<tr>\n",
       "  <th>Prob(Omnibus):</th> <td> 0.000</td> <th>  Jarque-Bera (JB):  </th> <td> 158.942</td>\n",
       "</tr>\n",
       "<tr>\n",
       "  <th>Skew:</th>          <td>-1.502</td> <th>  Prob(JB):          </th> <td>3.06e-35</td>\n",
       "</tr>\n",
       "<tr>\n",
       "  <th>Kurtosis:</th>      <td> 8.736</td> <th>  Cond. No.          </th> <td>    1.00</td>\n",
       "</tr>\n",
       "</table><br/><br/>Warnings:<br/>[1] Standard Errors assume that the covariance matrix of the errors is correctly specified."
      ],
      "text/plain": [
       "<class 'statsmodels.iolib.summary.Summary'>\n",
       "\"\"\"\n",
       "                            OLS Regression Results                            \n",
       "==============================================================================\n",
       "Dep. Variable:                      y   R-squared:                       0.058\n",
       "Model:                            OLS   Adj. R-squared:                  0.048\n",
       "Method:                 Least Squares   F-statistic:                     5.579\n",
       "Date:                Sat, 09 Mar 2019   Prob (F-statistic):             0.0203\n",
       "Time:                        15:30:19   Log-Likelihood:                -144.57\n",
       "No. Observations:                  91   AIC:                             291.1\n",
       "Df Residuals:                      90   BIC:                             293.6\n",
       "Df Model:                           1                                         \n",
       "Covariance Type:            nonrobust                                         \n",
       "==============================================================================\n",
       "                 coef    std err          t      P>|t|      [0.025      0.975]\n",
       "------------------------------------------------------------------------------\n",
       "x1            -0.1206      0.051     -2.362      0.020      -0.222      -0.019\n",
       "==============================================================================\n",
       "Omnibus:                       43.209   Durbin-Watson:                   1.862\n",
       "Prob(Omnibus):                  0.000   Jarque-Bera (JB):              158.942\n",
       "Skew:                          -1.502   Prob(JB):                     3.06e-35\n",
       "Kurtosis:                       8.736   Cond. No.                         1.00\n",
       "==============================================================================\n",
       "\n",
       "Warnings:\n",
       "[1] Standard Errors assume that the covariance matrix of the errors is correctly specified.\n",
       "\"\"\""
      ]
     },
     "metadata": {},
     "output_type": "display_data"
    },
    {
     "data": {
      "image/png": "[encoded data removed]",
      "text/plain": [
       "<Figure size 432x288 with 1 Axes>"
      ]
     },
     "metadata": {
      "needs_background": "light"
     },
     "output_type": "display_data"
    }
   ],
   "source": [
    "x = p11['diff'].values\n",
    "y = p11['r'].values\n",
    "m,b = np.polyfit(x, y, 1) \n",
    "plt.plot(x, y, 'yo', x, m*x+b, '--k') \n",
    "#x = sm.add_constant((x*100), prepend=True)\n",
    "x=x*100\n",
    "y=y*100\n",
    "results = smf.OLS(y,x).fit()\n",
    "display(results.summary())"
   ]
  },
  {
   "cell_type": "markdown",
   "metadata": {},
   "source": [
    "距离负、斜率正：从低点向上，线性回归比较显著，R2为68.5%"
   ]
  },
  {
   "cell_type": "code",
   "execution_count": 29,
   "metadata": {},
   "outputs": [
    {
     "data": {
      "text/html": [
       "<table class=\"simpletable\">\n",
       "<caption>OLS Regression Results</caption>\n",
       "<tr>\n",
       "  <th>Dep. Variable:</th>            <td>y</td>        <th>  R-squared:         </th> <td>   0.685</td>\n",
       "</tr>\n",
       "<tr>\n",
       "  <th>Model:</th>                   <td>OLS</td>       <th>  Adj. R-squared:    </th> <td>   0.680</td>\n",
       "</tr>\n",
       "<tr>\n",
       "  <th>Method:</th>             <td>Least Squares</td>  <th>  F-statistic:       </th> <td>   136.8</td>\n",
       "</tr>\n",
       "<tr>\n",
       "  <th>Date:</th>             <td>Sat, 09 Mar 2019</td> <th>  Prob (F-statistic):</th> <td>1.96e-17</td>\n",
       "</tr>\n",
       "<tr>\n",
       "  <th>Time:</th>                 <td>15:30:35</td>     <th>  Log-Likelihood:    </th> <td> -76.565</td>\n",
       "</tr>\n",
       "<tr>\n",
       "  <th>No. Observations:</th>      <td>    64</td>      <th>  AIC:               </th> <td>   155.1</td>\n",
       "</tr>\n",
       "<tr>\n",
       "  <th>Df Residuals:</th>          <td>    63</td>      <th>  BIC:               </th> <td>   157.3</td>\n",
       "</tr>\n",
       "<tr>\n",
       "  <th>Df Model:</th>              <td>     1</td>      <th>                     </th>     <td> </td>   \n",
       "</tr>\n",
       "<tr>\n",
       "  <th>Covariance Type:</th>      <td>nonrobust</td>    <th>                     </th>     <td> </td>   \n",
       "</tr>\n",
       "</table>\n",
       "<table class=\"simpletable\">\n",
       "<tr>\n",
       "   <td></td>     <th>coef</th>     <th>std err</th>      <th>t</th>      <th>P>|t|</th>  <th>[0.025</th>    <th>0.975]</th>  \n",
       "</tr>\n",
       "<tr>\n",
       "  <th>x1</th> <td>    0.3342</td> <td>    0.029</td> <td>   11.695</td> <td> 0.000</td> <td>    0.277</td> <td>    0.391</td>\n",
       "</tr>\n",
       "</table>\n",
       "<table class=\"simpletable\">\n",
       "<tr>\n",
       "  <th>Omnibus:</th>       <td>39.428</td> <th>  Durbin-Watson:     </th> <td>   1.490</td>\n",
       "</tr>\n",
       "<tr>\n",
       "  <th>Prob(Omnibus):</th> <td> 0.000</td> <th>  Jarque-Bera (JB):  </th> <td> 136.380</td>\n",
       "</tr>\n",
       "<tr>\n",
       "  <th>Skew:</th>          <td>-1.764</td> <th>  Prob(JB):          </th> <td>2.43e-30</td>\n",
       "</tr>\n",
       "<tr>\n",
       "  <th>Kurtosis:</th>      <td> 9.221</td> <th>  Cond. No.          </th> <td>    1.00</td>\n",
       "</tr>\n",
       "</table><br/><br/>Warnings:<br/>[1] Standard Errors assume that the covariance matrix of the errors is correctly specified."
      ],
      "text/plain": [
       "<class 'statsmodels.iolib.summary.Summary'>\n",
       "\"\"\"\n",
       "                            OLS Regression Results                            \n",
       "==============================================================================\n",
       "Dep. Variable:                      y   R-squared:                       0.685\n",
       "Model:                            OLS   Adj. R-squared:                  0.680\n",
       "Method:                 Least Squares   F-statistic:                     136.8\n",
       "Date:                Sat, 09 Mar 2019   Prob (F-statistic):           1.96e-17\n",
       "Time:                        15:30:35   Log-Likelihood:                -76.565\n",
       "No. Observations:                  64   AIC:                             155.1\n",
       "Df Residuals:                      63   BIC:                             157.3\n",
       "Df Model:                           1                                         \n",
       "Covariance Type:            nonrobust                                         \n",
       "==============================================================================\n",
       "                 coef    std err          t      P>|t|      [0.025      0.975]\n",
       "------------------------------------------------------------------------------\n",
       "x1             0.3342      0.029     11.695      0.000       0.277       0.391\n",
       "==============================================================================\n",
       "Omnibus:                       39.428   Durbin-Watson:                   1.490\n",
       "Prob(Omnibus):                  0.000   Jarque-Bera (JB):              136.380\n",
       "Skew:                          -1.764   Prob(JB):                     2.43e-30\n",
       "Kurtosis:                       9.221   Cond. No.                         1.00\n",
       "==============================================================================\n",
       "\n",
       "Warnings:\n",
       "[1] Standard Errors assume that the covariance matrix of the errors is correctly specified.\n",
       "\"\"\""
      ]
     },
     "metadata": {},
     "output_type": "display_data"
    },
    {
     "data": {
      "image/png": "[encoded data removed]",
      "text/plain": [
       "<Figure size 432x288 with 1 Axes>"
      ]
     },
     "metadata": {
      "needs_background": "light"
     },
     "output_type": "display_data"
    }
   ],
   "source": [
    "x = p12['diff'].values\n",
    "y = p12['r'].values\n",
    "m,b = np.polyfit(x, y, 1) \n",
    "plt.plot(x, y, 'yo', x, m*x+b, '--k') \n",
    "#x = sm.add_constant((x*100), prepend=True)\n",
    "x=x*100\n",
    "y=y*100\n",
    "results = smf.OLS(y,x).fit()\n",
    "display(results.summary())"
   ]
  },
  {
   "cell_type": "markdown",
   "metadata": {},
   "source": [
    "距离正、斜率负：从高点向下，线性回归不太显著，R2为14.1%"
   ]
  },
  {
   "cell_type": "code",
   "execution_count": 30,
   "metadata": {},
   "outputs": [
    {
     "data": {
      "text/html": [
       "<table class=\"simpletable\">\n",
       "<caption>OLS Regression Results</caption>\n",
       "<tr>\n",
       "  <th>Dep. Variable:</th>            <td>y</td>        <th>  R-squared:         </th> <td>   0.141</td>\n",
       "</tr>\n",
       "<tr>\n",
       "  <th>Model:</th>                   <td>OLS</td>       <th>  Adj. R-squared:    </th> <td>   0.136</td>\n",
       "</tr>\n",
       "<tr>\n",
       "  <th>Method:</th>             <td>Least Squares</td>  <th>  F-statistic:       </th> <td>   28.53</td>\n",
       "</tr>\n",
       "<tr>\n",
       "  <th>Date:</th>             <td>Sat, 09 Mar 2019</td> <th>  Prob (F-statistic):</th> <td>2.86e-07</td>\n",
       "</tr>\n",
       "<tr>\n",
       "  <th>Time:</th>                 <td>15:31:08</td>     <th>  Log-Likelihood:    </th> <td> -175.36</td>\n",
       "</tr>\n",
       "<tr>\n",
       "  <th>No. Observations:</th>      <td>   175</td>      <th>  AIC:               </th> <td>   352.7</td>\n",
       "</tr>\n",
       "<tr>\n",
       "  <th>Df Residuals:</th>          <td>   174</td>      <th>  BIC:               </th> <td>   355.9</td>\n",
       "</tr>\n",
       "<tr>\n",
       "  <th>Df Model:</th>              <td>     1</td>      <th>                     </th>     <td> </td>   \n",
       "</tr>\n",
       "<tr>\n",
       "  <th>Covariance Type:</th>      <td>nonrobust</td>    <th>                     </th>     <td> </td>   \n",
       "</tr>\n",
       "</table>\n",
       "<table class=\"simpletable\">\n",
       "<tr>\n",
       "   <td></td>     <th>coef</th>     <th>std err</th>      <th>t</th>      <th>P>|t|</th>  <th>[0.025</th>    <th>0.975]</th>  \n",
       "</tr>\n",
       "<tr>\n",
       "  <th>x1</th> <td>   -0.1217</td> <td>    0.023</td> <td>   -5.341</td> <td> 0.000</td> <td>   -0.167</td> <td>   -0.077</td>\n",
       "</tr>\n",
       "</table>\n",
       "<table class=\"simpletable\">\n",
       "<tr>\n",
       "  <th>Omnibus:</th>       <td>76.482</td> <th>  Durbin-Watson:     </th> <td>   1.852</td> \n",
       "</tr>\n",
       "<tr>\n",
       "  <th>Prob(Omnibus):</th> <td> 0.000</td> <th>  Jarque-Bera (JB):  </th> <td> 750.915</td> \n",
       "</tr>\n",
       "<tr>\n",
       "  <th>Skew:</th>          <td> 1.303</td> <th>  Prob(JB):          </th> <td>8.73e-164</td>\n",
       "</tr>\n",
       "<tr>\n",
       "  <th>Kurtosis:</th>      <td>12.808</td> <th>  Cond. No.          </th> <td>    1.00</td> \n",
       "</tr>\n",
       "</table><br/><br/>Warnings:<br/>[1] Standard Errors assume that the covariance matrix of the errors is correctly specified."
      ],
      "text/plain": [
       "<class 'statsmodels.iolib.summary.Summary'>\n",
       "\"\"\"\n",
       "                            OLS Regression Results                            \n",
       "==============================================================================\n",
       "Dep. Variable:                      y   R-squared:                       0.141\n",
       "Model:                            OLS   Adj. R-squared:                  0.136\n",
       "Method:                 Least Squares   F-statistic:                     28.53\n",
       "Date:                Sat, 09 Mar 2019   Prob (F-statistic):           2.86e-07\n",
       "Time:                        15:31:08   Log-Likelihood:                -175.36\n",
       "No. Observations:                 175   AIC:                             352.7\n",
       "Df Residuals:                     174   BIC:                             355.9\n",
       "Df Model:                           1                                         \n",
       "Covariance Type:            nonrobust                                         \n",
       "==============================================================================\n",
       "                 coef    std err          t      P>|t|      [0.025      0.975]\n",
       "------------------------------------------------------------------------------\n",
       "x1            -0.1217      0.023     -5.341      0.000      -0.167      -0.077\n",
       "==============================================================================\n",
       "Omnibus:                       76.482   Durbin-Watson:                   1.852\n",
       "Prob(Omnibus):                  0.000   Jarque-Bera (JB):              750.915\n",
       "Skew:                           1.303   Prob(JB):                    8.73e-164\n",
       "Kurtosis:                      12.808   Cond. No.                         1.00\n",
       "==============================================================================\n",
       "\n",
       "Warnings:\n",
       "[1] Standard Errors assume that the covariance matrix of the errors is correctly specified.\n",
       "\"\"\""
      ]
     },
     "metadata": {},
     "output_type": "display_data"
    },
    {
     "data": {
      "image/png": "[encoded data removed]",
      "text/plain": [
       "<Figure size 432x288 with 1 Axes>"
      ]
     },
     "metadata": {
      "needs_background": "light"
     },
     "output_type": "display_data"
    }
   ],
   "source": [
    "x = p21['diff'].values\n",
    "y = p21['r'].values\n",
    "m,b = np.polyfit(x, y, 1) \n",
    "plt.plot(x, y, 'yo', x, m*x+b, '--k') \n",
    "#x = sm.add_constant((x*100), prepend=True)\n",
    "x=x*100\n",
    "y=y*100\n",
    "results = smf.OLS(y,x).fit()\n",
    "display(results.summary())"
   ]
  },
  {
   "cell_type": "markdown",
   "metadata": {},
   "source": [
    "距离正、斜率正：从相交点向上，线性回归显著，R2为70.4%"
   ]
  },
  {
   "cell_type": "code",
   "execution_count": 31,
   "metadata": {},
   "outputs": [
    {
     "data": {
      "text/html": [
       "<table class=\"simpletable\">\n",
       "<caption>OLS Regression Results</caption>\n",
       "<tr>\n",
       "  <th>Dep. Variable:</th>            <td>y</td>        <th>  R-squared:         </th> <td>   0.704</td>\n",
       "</tr>\n",
       "<tr>\n",
       "  <th>Model:</th>                   <td>OLS</td>       <th>  Adj. R-squared:    </th> <td>   0.702</td>\n",
       "</tr>\n",
       "<tr>\n",
       "  <th>Method:</th>             <td>Least Squares</td>  <th>  F-statistic:       </th> <td>   369.3</td>\n",
       "</tr>\n",
       "<tr>\n",
       "  <th>Date:</th>             <td>Sat, 09 Mar 2019</td> <th>  Prob (F-statistic):</th> <td>7.28e-43</td>\n",
       "</tr>\n",
       "<tr>\n",
       "  <th>Time:</th>                 <td>15:31:47</td>     <th>  Log-Likelihood:    </th> <td> -104.02</td>\n",
       "</tr>\n",
       "<tr>\n",
       "  <th>No. Observations:</th>      <td>   156</td>      <th>  AIC:               </th> <td>   210.0</td>\n",
       "</tr>\n",
       "<tr>\n",
       "  <th>Df Residuals:</th>          <td>   155</td>      <th>  BIC:               </th> <td>   213.1</td>\n",
       "</tr>\n",
       "<tr>\n",
       "  <th>Df Model:</th>              <td>     1</td>      <th>                     </th>     <td> </td>   \n",
       "</tr>\n",
       "<tr>\n",
       "  <th>Covariance Type:</th>      <td>nonrobust</td>    <th>                     </th>     <td> </td>   \n",
       "</tr>\n",
       "</table>\n",
       "<table class=\"simpletable\">\n",
       "<tr>\n",
       "   <td></td>     <th>coef</th>     <th>std err</th>      <th>t</th>      <th>P>|t|</th>  <th>[0.025</th>    <th>0.975]</th>  \n",
       "</tr>\n",
       "<tr>\n",
       "  <th>x1</th> <td>    0.2715</td> <td>    0.014</td> <td>   19.218</td> <td> 0.000</td> <td>    0.244</td> <td>    0.299</td>\n",
       "</tr>\n",
       "</table>\n",
       "<table class=\"simpletable\">\n",
       "<tr>\n",
       "  <th>Omnibus:</th>       <td>18.545</td> <th>  Durbin-Watson:     </th> <td>   1.773</td>\n",
       "</tr>\n",
       "<tr>\n",
       "  <th>Prob(Omnibus):</th> <td> 0.000</td> <th>  Jarque-Bera (JB):  </th> <td>  21.541</td>\n",
       "</tr>\n",
       "<tr>\n",
       "  <th>Skew:</th>          <td> 0.807</td> <th>  Prob(JB):          </th> <td>2.10e-05</td>\n",
       "</tr>\n",
       "<tr>\n",
       "  <th>Kurtosis:</th>      <td> 3.842</td> <th>  Cond. No.          </th> <td>    1.00</td>\n",
       "</tr>\n",
       "</table><br/><br/>Warnings:<br/>[1] Standard Errors assume that the covariance matrix of the errors is correctly specified."
      ],
      "text/plain": [
       "<class 'statsmodels.iolib.summary.Summary'>\n",
       "\"\"\"\n",
       "                            OLS Regression Results                            \n",
       "==============================================================================\n",
       "Dep. Variable:                      y   R-squared:                       0.704\n",
       "Model:                            OLS   Adj. R-squared:                  0.702\n",
       "Method:                 Least Squares   F-statistic:                     369.3\n",
       "Date:                Sat, 09 Mar 2019   Prob (F-statistic):           7.28e-43\n",
       "Time:                        15:31:47   Log-Likelihood:                -104.02\n",
       "No. Observations:                 156   AIC:                             210.0\n",
       "Df Residuals:                     155   BIC:                             213.1\n",
       "Df Model:                           1                                         \n",
       "Covariance Type:            nonrobust                                         \n",
       "==============================================================================\n",
       "                 coef    std err          t      P>|t|      [0.025      0.975]\n",
       "------------------------------------------------------------------------------\n",
       "x1             0.2715      0.014     19.218      0.000       0.244       0.299\n",
       "==============================================================================\n",
       "Omnibus:                       18.545   Durbin-Watson:                   1.773\n",
       "Prob(Omnibus):                  0.000   Jarque-Bera (JB):               21.541\n",
       "Skew:                           0.807   Prob(JB):                     2.10e-05\n",
       "Kurtosis:                       3.842   Cond. No.                         1.00\n",
       "==============================================================================\n",
       "\n",
       "Warnings:\n",
       "[1] Standard Errors assume that the covariance matrix of the errors is correctly specified.\n",
       "\"\"\""
      ]
     },
     "metadata": {},
     "output_type": "display_data"
    },
    {
     "data": {
      "image/png": "[encoded data removed]",
      "text/plain": [
       "<Figure size 432x288 with 1 Axes>"
      ]
     },
     "metadata": {
      "needs_background": "light"
     },
     "output_type": "display_data"
    }
   ],
   "source": [
    "x = p22['diff'].values\n",
    "y = p22['r'].values\n",
    "m,b = np.polyfit(x, y, 1) \n",
    "plt.plot(x, y, 'yo', x, m*x+b, '--k') \n",
    "#x = sm.add_constant((x*100), prepend=True)\n",
    "x=x*100\n",
    "y=y*100\n",
    "results = smf.OLS(y,x).fit()\n",
    "display(results.summary())"
   ]
  },
  {
   "cell_type": "code",
   "execution_count": null,
   "metadata": {},
   "outputs": [],
   "source": []
  }
 ],
 "metadata": {
  "kernelspec": {
   "display_name": "Python 3",
   "language": "python",
   "name": "python3"
  },
  "language_info": {
   "codemirror_mode": {
    "name": "ipython",
    "version": 3
   },
   "file_extension": ".py",
   "mimetype": "text/x-python",
   "name": "python",
   "nbconvert_exporter": "python",
   "pygments_lexer": "ipython3",
   "version": "3.6.8"
  }
 },
 "nbformat": 4,
 "nbformat_minor": 2
}
